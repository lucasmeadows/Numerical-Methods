{
 "cells": [
  {
   "cell_type": "code",
   "execution_count": 3,
   "metadata": {},
   "outputs": [],
   "source": [
    "%matplotlib inline\n",
    "import numpy\n",
    "import matplotlib.pyplot as plt"
   ]
  },
  {
   "cell_type": "markdown",
   "metadata": {
    "deletable": false,
    "editable": false,
    "nbgrader": {
     "cell_type": "markdown",
     "checksum": "935818b1cc5498fcab64162ff74a4e0a",
     "grade": false,
     "grade_id": "cell-6537906896021329",
     "locked": true,
     "schema_version": 3,
     "solution": false
    }
   },
   "source": [
    "Before you turn this problem in, make sure everything runs as expected. First, restart the kernel (in the menubar, select Kernel $\\rightarrow$ Restart) and then run all cells (in the menubar, select Cell $\\rightarrow$ Run All).\n",
    "\n",
    "Make sure you fill in any place that says YOUR CODE HERE or \"YOUR ANSWER HERE\", as well as your name and collaborators below:"
   ]
  },
  {
   "cell_type": "markdown",
   "metadata": {
    "deletable": false,
    "editable": false,
    "nbgrader": {
     "cell_type": "markdown",
     "checksum": "0b16d783d23daac019787229d4c2e61a",
     "grade": false,
     "grade_id": "cell-5502088417300118",
     "locked": true,
     "schema_version": 3,
     "solution": false
    }
   },
   "source": [
    "# HW 3:  Interpolation and applications"
   ]
  },
  {
   "cell_type": "markdown",
   "metadata": {
    "deletable": false,
    "editable": false,
    "nbgrader": {
     "cell_type": "markdown",
     "checksum": "09aa3e7992cd994495709007184999f6",
     "grade": false,
     "grade_id": "cell-82472618555790",
     "locked": true,
     "schema_version": 3,
     "solution": false
    }
   },
   "source": [
    "## Question 1\n",
    "\n",
    "Consider data at three points $(x_0, y_0) = (0, 0)$, $(x_1, y_1) = (1, 2)$, and $(x_2, y_2) = (2, 2)$."
   ]
  },
  {
   "cell_type": "markdown",
   "metadata": {
    "deletable": false,
    "editable": false,
    "nbgrader": {
     "cell_type": "markdown",
     "checksum": "3b84eeedf2d36dfc3754dc397cd38e54",
     "grade": false,
     "grade_id": "cell-8265701073131704",
     "locked": true,
     "schema_version": 3,
     "solution": false
    }
   },
   "source": [
    "**(a)** [ 8 pts] Analytically find coefficients of the interpolating  polynomial $P_2(x)$ that passes through these three points in the following bases\n",
    "1. Monomial: $P(x) = p_0 + p_1 x + p_2 x^2$\n",
    "1. Lagrange: $P(x) = \\sum^2_{k=0} y_k \\ell_k(x)$\n",
    "\n",
    "\n",
    "and show that, independent of basis it's always the same polynomial.\n",
    "\n"
   ]
  },
  {
   "cell_type": "markdown",
   "metadata": {
    "deletable": false,
    "nbgrader": {
     "cell_type": "markdown",
     "checksum": "bdca4a8eb957567c3f00677e6a635cfa",
     "grade": true,
     "grade_id": "cell-3823725410153810",
     "locked": false,
     "points": 8,
     "schema_version": 3,
     "solution": true
    }
   },
   "source": [
    "### Monomial Basis\n",
    "\n",
    "We want to find $(P(x) = p_0 + p_1 x + p_2 x^2\\ $ such that it passes through the points \n",
    "$(x_0, y_0) = (0, 0), (x_1, y_1) = (1, 2)$, and $(x_2, y_2) = (2, 2)$\n",
    "First, let us substitute in different values of $(x, y)$:\n",
    "\n",
    "$$\n",
    "\\begin{aligned}\n",
    "P(0) &= p_0 + p_1 \\cdot 0 + p_2 \\cdot 0^2 = 0 \\\\\n",
    "&\\Rightarrow p_0 = 0 \\\\\n",
    "\\\\\n",
    "P(1) &= p_0 + p_1 \\cdot 1 + p_2 \\cdot 1^2 = 2 \\\\\n",
    "&\\Rightarrow 0 + p_1 + p_2 = 2 \\\\\n",
    "&\\Rightarrow p_1 + p_2 = 2 \\\\\n",
    "\\\\\n",
    "P(2) &= p_0 + p_1 \\cdot 2 + p_2 \\cdot 2^2 = 2 \\\\\n",
    "&\\Rightarrow 0 + 2p_1 + 4p_2 = 2 \\\\\n",
    "&\\Rightarrow 2p_1 + 4p_2 = 2\n",
    "\\end{aligned}\n",
    "$$\n",
    "\n",
    "Now we can solve the system of equations:\n",
    "\n",
    "$$\n",
    "\\begin{aligned}\n",
    "p_1 + p_2 &= 2 \\\\\n",
    "2p_1 + 4p_2 &= 2\n",
    "\\end{aligned}\n",
    "$$\n",
    "\n",
    "$$\n",
    "p_1 = 2 - p_2\n",
    "$$\n",
    "\n",
    "$$\n",
    "2(2 - p_2) + 4p_2 = 2 \\\\\n",
    "4 - 2p_2 + 4p_2 = 2 \\\\\n",
    "2p_2 = 2 - 4 \\\\\n",
    "p_2 = -1\n",
    "$$\n",
    "\n",
    "Substitute $(p_2 = -1)$ into $(p_1 + p_2 = 2)$:\n",
    "\n",
    "$$\n",
    "p_1 - 1 = 2 \\\\\n",
    "p_1 = 3\n",
    "$$\n",
    "\n",
    "Thus, the interpolating polynomial in the monomial basis is:\n",
    "\n",
    "$$\n",
    "P(x) = 3x - x^2\n",
    "$$\n",
    "\n",
    "---\n",
    "\n",
    "### Lagrange Basis\n",
    "\n",
    "Now we construct the Lagrange basis polynomials for the points $(x_0, y_0), (x_1, y_1), and (x_2, y_2)$.\n",
    "\n",
    "$$\n",
    "\\ell_0(x) = \\frac{(x - x_1)(x - x_2)}{(x_0 - x_1)(x_0 - x_2)} = \\frac{(x - 1)(x - 2)}{(0 - 1)(0 - 2)} = \\frac{(x - 1)(x - 2)}{2}\n",
    "$$\n",
    "\n",
    "$$\n",
    "\\ell_1(x) = \\frac{(x - x_0)(x - x_2)}{(x_1 - x_0)(x_1 - x_2)} = \\frac{(x - 0)(x - 2)}{(1 - 0)(1 - 2)} = \\frac{x(x - 2)}{-1} = -x(x - 2)\n",
    "$$\n",
    "\n",
    "$$\n",
    "\\ell_2(x) = \\frac{(x - x_0)(x - x_1)}{(x_2 - x_0)(x_2 - x_1)} = \\frac{(x - 0)(x - 1)}{(2 - 0)(2 - 1)} = \\frac{x(x - 1)}{2}\n",
    "$$\n",
    "\n",
    "The Lagrange polynomial being:\n",
    "\n",
    "$$\n",
    "P(x) = y_0 \\ell_0(x) + y_1 \\ell_1(x) + y_2 \\ell_2(x)\n",
    "$$\n",
    "\n",
    "Substitute the values $(y_0 = 0), (y_1 = 2), and (y_2 = 2)$:\n",
    "\n",
    "$$\n",
    "P(x) = 0 \\cdot \\ell_0(x) + 2 \\cdot \\ell_1(x) + 2 \\cdot \\ell_2(x)\n",
    "$$\n",
    "$$\n",
    "P(x) = 2(-x(x - 2)) + 2 \\left(\\frac{x(x - 1)}{2}\\right)\n",
    "$$\n",
    "$$\n",
    "P(x) = -2x(x - 2) + x(x - 1)\n",
    "$$\n",
    "$$\n",
    "P(x) = -2x^2 + 4x + x^2 - x\n",
    "$$\n",
    "$$\n",
    "P(x) = -x^2 + 3x\n",
    "$$\n",
    "\n",
    "As expected, the interpolating polynomial in the Lagrange basis is the same as for the monomial basis:\n",
    "\n",
    "$$\n",
    "P(x) = 3x - x^2\n",
    "$$\n",
    "\n",
    "---\n",
    "\n",
    "Thus proving that the interpolating polynomial is the same in both the monomial and Lagrange bases:\n",
    "\n",
    "$$\n",
    "P(x) = 3x - x^2\n",
    "$$\n",
    "\n",
    "\n"
   ]
  },
  {
   "cell_type": "markdown",
   "metadata": {
    "deletable": false,
    "editable": false,
    "nbgrader": {
     "cell_type": "markdown",
     "checksum": "ace8c21d5f29d3cdcc7da5754f17aeb5",
     "grade": false,
     "grade_id": "cell-3903963456629954",
     "locked": true,
     "schema_version": 3,
     "solution": false
    }
   },
   "source": [
    "**(b)** [4 pts] Any $N+1$ distinct values of $x$ uniquely define the $N+1$ Lagrange polynomials $\\ell_0(x), \\ell_1(x)\\ldots\\ell_N(x)$\n",
    "\n",
    "show that these functions satisfy \n",
    "\n",
    "$$\\sum^N_{i=0} \\ell_i(x) = 1$$\n",
    "\n",
    "for all values of $x$ (not just the nodes).  We say that the Lagrange polynomials form a \"Partition of Unity\" because they always sum to 1.\n",
    "\n",
    "Hint:  consider interpolation of a constant function, $f(x) = c$ sampled at $N+1$ distinct points.\n"
   ]
  },
  {
   "cell_type": "markdown",
   "metadata": {
    "deletable": false,
    "nbgrader": {
     "cell_type": "markdown",
     "checksum": "a45926dd69a036c2edfd6cf82189426c",
     "grade": true,
     "grade_id": "cell-5902170639545808",
     "locked": false,
     "points": 4,
     "schema_version": 3,
     "solution": true
    }
   },
   "source": [
    "$$\n",
    "\\sum_{i=0}^{N} \\ell_i(x) = 1\n",
    "$$\n",
    "\n",
    "where each $\\ell_i(x)$ is a Lagrange basis polynomial given by:\n",
    "\n",
    "$$\n",
    "\\ell_i(x) = \\prod_{\\substack{j=0 \\\\ j \\neq i}}^{N} \\frac{x - x_j}{x_i - x_j}\n",
    "$$\n",
    "\n",
    "for distinct points $(x_0, x_1, \\ldots, x_N)$.\n",
    "\n",
    "\n",
    "We interpolate the function $f(x)$ as a constant function, as recommended. Here we can call this constant function $c$, such that $(f(x) = c)$ \n",
    " Since the function is constant, we know that for every point $(x_0, x_1, \\ldots, x_N)$, the interpolation polynomial will always be $(P(x) = 1)$.\n",
    "\n",
    "The interpolating polynomial $P(x)$ is written as:\n",
    "\n",
    "$$\n",
    "P(x) = \\sum_{i=0}^{N} c \\ell_i(x)\n",
    "$$\n",
    "\n",
    "Since $f(x_i) = 1$ for every value $i$, we get:\n",
    "\n",
    "$$\n",
    "P(x) = c\\sum_{i=0}^{N} \\ell_i(x)\n",
    "$$\n",
    "\n",
    "We know P(x) must equal the same cosntant c, as we are looking at a constant function. So we can write:\n",
    "\n",
    "$$\n",
    "c\\sum_{i=0}^{N} \\ell_i(x) = c \\quad \\text{for all } x.\n",
    "$$\n",
    "\n",
    "And when dividing by c, we get:\n",
    "\n",
    "$ 1 =\\sum^N_{i=0} \\ell_i(x) $\n",
    "\n",
    "Therefore, we have proven that regardless of the value of x, the statement proposed must be true."
   ]
  },
  {
   "cell_type": "markdown",
   "metadata": {
    "deletable": false,
    "editable": false,
    "nbgrader": {
     "cell_type": "markdown",
     "checksum": "ac4c96d7d73e5fc2bed61803c1dfe1b6",
     "grade": false,
     "grade_id": "cell-6806070912155660",
     "locked": true,
     "schema_version": 3,
     "solution": false
    }
   },
   "source": [
    "## Question 2: Fun with Chebyshev Polynomials"
   ]
  },
  {
   "cell_type": "markdown",
   "metadata": {
    "deletable": false,
    "editable": false,
    "nbgrader": {
     "cell_type": "markdown",
     "checksum": "41e33ea4dd4d761a50dc408a19e71687",
     "grade": false,
     "grade_id": "cell-8344454aa3c6cd29",
     "locked": true,
     "schema_version": 3,
     "solution": false,
     "task": false
    }
   },
   "source": [
    "**(a)** [4 pts] The $n$th Chebyshev polynomial is characterized (up to a constant) by the identity\n",
    "\n",
    "$$T_n(\\cos \\theta) = \\cos (n \\theta)$$\n",
    "\n",
    "Use this identity to show that the Chebyshev polynomials are orthogonal on $x\\in[-1,1]$ with respect to the weight\n",
    "\n",
    "$$\\omega(x) = \\frac{1}{\\sqrt{1 - x^2}}$$\n",
    "\n",
    "To do this you must prove that\n",
    "\n",
    "$$\\int^1_{-1} \\omega(x) T_n(x) T_m(x) dx = \\left \\{ \\begin{aligned} \n",
    "a & ~ & m = n \\\\ \n",
    "0 & ~ & m \\neq n \n",
    "\\end{aligned} \\right .$$\n",
    "\n",
    "where $a$ is a finite constant (also find this coefficient).  Note that you may have multiple non-zero coefficients $a$.  Make sure to cover all these cases and list the conditions that you will find these values."
   ]
  },
  {
   "cell_type": "markdown",
   "metadata": {
    "deletable": false,
    "nbgrader": {
     "cell_type": "markdown",
     "checksum": "30fc92751374bb2710d4fe7648e32a75",
     "grade": true,
     "grade_id": "cell-8354694405440956",
     "locked": false,
     "points": 4,
     "schema_version": 3,
     "solution": true
    }
   },
   "source": [
    "Given we have $T_n(\\cos \\theta) = \\cos (n \\theta), \\quad \\omega(x) = \\frac{1}{\\sqrt{1 - x^2}}$\n",
    "\n",
    "The integral we consider is:\n",
    "\n",
    "$$\\int_{-1}^{1} \\omega(x) T_n(x) T_m(x) \\, dx$$\n",
    "\n",
    "We can subtitute $x = \\cos(\\theta)$ and $dx = -\\sin(\\theta) d\\theta$, to get:\n",
    "\n",
    "$$\\int_{0}^{\\pi} \\frac{\\cos(n\\theta) \\cos(m\\theta)}{\\sqrt{1 - \\cos^2\\theta}} \\cdot (-\\sin(\\theta)) \\, d\\theta$$\n",
    "\n",
    "Since $\\sqrt{1 - \\cos^2\\theta} = \\sin(\\theta)$, the integral becomes:\n",
    "\n",
    "$$-\\int_{0}^{\\pi} \\cos(n\\theta) \\cos(m\\theta) \\, d\\theta$$\n",
    "\n",
    "Using $\\cos(A)\\cos(B) = \\frac{1}{2} [\\cos(A+B) + \\cos(A-B)]$:\n",
    "\n",
    "$$-\\frac{1}{2} \\int_{0}^{\\pi} \\left[ \\cos((n+m)\\theta) + \\cos((n-m)\\theta) \\right] \\, d\\theta$$\n",
    "\n",
    "Evaluate for $n \\neq m$:\n",
    "\n",
    "$$-\\frac{1}{2} \\left[ \\frac{\\sin((n+m)\\theta)}{n+m} + \\frac{\\sin((n-m)\\theta)}{n-m} \\right] \\Big|_0^{\\pi}$$\n",
    "\n",
    "As $\\sin(k\\pi) = 0$ for any integer $k$, the result is $0$\n",
    "\n",
    "For $n = m \\neq 0$:\n",
    "\n",
    "$$-\\frac{1}{2} \\int_{0}^{\\pi} \\left[ \\cos(2n\\theta) + 1 \\right] \\, d\\theta$$\n",
    "\n",
    "$-\\frac{1}{2} \\left( \\int_{0}^{\\pi} \\cos(2n\\theta) \\, d\\theta + \\int_{0}^{\\pi} 1 \\, d\\theta \\right)$\n",
    "\n",
    "The first integral gives:\n",
    "\n",
    "$$\\int_{0}^{\\pi} \\cos(2n\\theta) \\, d\\theta = \\frac{\\sin(2n\\theta)}{2n} \\Big|_0^{\\pi} = 0$$\n",
    "\n",
    "The second:\n",
    "\n",
    "$$\\int_{0}^{\\pi} 1 \\, d\\theta = \\pi$$\n",
    "\n",
    "Therefore, we get:\n",
    "\n",
    "$$-\\frac{1}{2} \\cdot \\pi = \\frac{\\pi}{2}$$\n",
    "\n",
    "Annd for or $$n = m = 0$$:\n",
    "\n",
    "$$-\\frac{1}{2} \\int_{0}^{\\pi} \\left[ 1 + 1 \\right] \\, d\\theta = -\\frac{1}{2} \\int_{0}^{\\pi} 2 \\, d\\theta$$\n",
    "\n",
    "$$-\\frac{1}{2} \\cdot 2\\pi = \\pi$$\n",
    "\n",
    "Finally, summarising our results, we can show that:\n",
    "\n",
    "$$\n",
    "a = \\begin{cases}\n",
    "0, & n \\neq m \\\\\n",
    "\\frac{\\pi}{2}, & n = m \\neq 0 \\\\\n",
    "\\pi, & n = m = 0\n",
    "\\end{cases}\n",
    "$$\n"
   ]
  },
  {
   "cell_type": "markdown",
   "metadata": {
    "deletable": false,
    "editable": false,
    "nbgrader": {
     "cell_type": "markdown",
     "checksum": "c767e02a08f81d53ec9d7b08448c8155",
     "grade": false,
     "grade_id": "cell-87edfee5e38ec2f5",
     "locked": true,
     "schema_version": 3,
     "solution": false,
     "task": false
    }
   },
   "source": [
    "**(b)** [4 pts] Consider the  Gaussian \n",
    "$$ f(x) = e^{-(x-3)^2} $$ on the interval $x\\in[0,6]$\n",
    "\n",
    "make a plot comparing the polynomial interpolant through $N=11$ points using \n",
    "* Evenly spaced points\n",
    "* The appropriate Chebyshev nodes (i.e. roots of $T_{11}$: **note** you will need to transform the nodes defined on the interval $s\\in[-1,1]$ to $x\\in[0,6]$)\n",
    "\n",
    "Be sure to show both the interpolation points and a reasonably resolved interpolating polynomial $P_{10}(x)$, and label all lines and axes.\n",
    "\n",
    "You can use any of the routines from the notes or `numpy.polyfit` and `numpy.polyval`.  \n",
    "For fun, experiment with other functions (e.g. Runge's function $f(x) = 1/(1 + 25x^2)$)"
   ]
  },
  {
   "cell_type": "code",
   "execution_count": 17,
   "metadata": {
    "deletable": false,
    "nbgrader": {
     "cell_type": "code",
     "checksum": "2a1162be101f1f24b8346ec12954767b",
     "grade": true,
     "grade_id": "cell-02c4fc987bf9ddca",
     "locked": false,
     "points": 4,
     "schema_version": 3,
     "solution": true,
     "task": false
    }
   },
   "outputs": [
    {
     "data": {
      "image/png": "[encoded data removed]",
      "text/plain": [
       "<Figure size 1600x600 with 1 Axes>"
      ]
     },
     "metadata": {},
     "output_type": "display_data"
    }
   ],
   "source": [
    "f = lambda x: numpy.exp(-(x-3)**2)\n",
    "n = 11\n",
    "x = numpy.linspace(0, 6, 11)\n",
    "\n",
    "#transforming Chebyshev nodes\n",
    "x_tr = 3 + 3 * numpy.cos((2.0 * numpy.arange(1, n + 1) - 1.0) / (2.0 * n) * numpy.pi)\n",
    "\n",
    "#fitting a polynomial of degree n-1 to the data we have\n",
    "p = numpy.polyfit(x, f(x), n-1)\n",
    "p_1= numpy.polyfit(x_tr, f(x_tr), n-1)\n",
    "\n",
    "\n",
    "#set up scatterplots to show trends\n",
    "point = numpy.linspace(0, 6, 100)\n",
    "plt.figure(figsize=(16, 6))\n",
    "\n",
    "plt.plot(points, f(point), label='Gaussian Function')\n",
    "plt.plot(points, numpy.polyval(p, point), label='Interpolation Poitns')\n",
    "plt.plot(points, numpy.polyval(p_1, point), label='Chebyshev')\n",
    "\n",
    "plt.scatter(x, f(x), color='red', label='Points of Guassian Function')\n",
    "plt.scatter(x_tr, f(x_tr), label='Points of Chebyshev Fitted Function')\n",
    "\n",
    "plt.title('Polynomial Interpolants of the Function $f(x)=e^{-(x-3)^2}$')\n",
    "plt.xlabel('x')\n",
    "plt.ylabel('f(x)')\n",
    "\n",
    "plt.legend()\n",
    "plt.grid(True)\n",
    "plt.show()\n"
   ]
  },
  {
   "cell_type": "markdown",
   "metadata": {
    "deletable": false,
    "editable": false,
    "nbgrader": {
     "cell_type": "markdown",
     "checksum": "407a3047713db39c9682e9671ffcac56",
     "grade": false,
     "grade_id": "cell-963631730bd282f4",
     "locked": true,
     "schema_version": 3,
     "solution": false,
     "task": false
    }
   },
   "source": [
    "**(c)** [4 pts] define the relative error as\n",
    "        \n",
    "$$\n",
    " r = \\frac{||f(x) - P_N(x)||}{||f(x)||}\n",
    "$$\n",
    "\n",
    "where $||\\cdot||$ is an appropriate norm (length) of a vector, in python you can calculate this by\n",
    "\n",
    "```python\n",
    "x = numpy.linspace(x_min, x_max)\n",
    "P_N = numpy.polyval(p, x)\n",
    "\n",
    "err = f(x) - P_N(x)\n",
    "r = numpy.linalg.norm(err)/numpy.linalg.norm(f(x))\n",
    "```\n",
    "\n",
    "* Make a well labeled plot showing log(r) vs number of grid points $N$ for $N\\in[5,30]$ \n",
    "* Comment briefly on your results. Some questions to consider are:\n",
    "    *  does $P_N(x)\\rightarrow f(x)$ as $N\\rightarrow\\infty$?\n",
    "    *  Is one interpolant more accurate than the other?\n",
    "    * Anything else you notice"
   ]
  },
  {
   "cell_type": "code",
   "execution_count": 21,
   "metadata": {
    "deletable": false,
    "nbgrader": {
     "cell_type": "code",
     "checksum": "b501a285d15a7fef6e0dbb6a2fca307e",
     "grade": true,
     "grade_id": "cell-3a61e29e4740bd7d",
     "locked": false,
     "points": 4,
     "schema_version": 3,
     "solution": true,
     "task": false
    }
   },
   "outputs": [
    {
     "name": "stderr",
     "output_type": "stream",
     "text": [
      "/var/folders/j2/rkbxss0d4b10t_2h10nmd78w0000gn/T/ipykernel_4858/3751565376.py:6: RankWarning: Polyfit may be poorly conditioned\n",
      "  p = numpy.polyfit(x, f(x), n - 1)\n",
      "/var/folders/j2/rkbxss0d4b10t_2h10nmd78w0000gn/T/ipykernel_4858/3751565376.py:6: RankWarning: Polyfit may be poorly conditioned\n",
      "  p = numpy.polyfit(x, f(x), n - 1)\n",
      "/var/folders/j2/rkbxss0d4b10t_2h10nmd78w0000gn/T/ipykernel_4858/3751565376.py:6: RankWarning: Polyfit may be poorly conditioned\n",
      "  p = numpy.polyfit(x, f(x), n - 1)\n",
      "/var/folders/j2/rkbxss0d4b10t_2h10nmd78w0000gn/T/ipykernel_4858/3751565376.py:10: RankWarning: Polyfit may be poorly conditioned\n",
      "  p_cheb = numpy.polyfit(x_tr, f(x_tr), n - 1)\n",
      "/var/folders/j2/rkbxss0d4b10t_2h10nmd78w0000gn/T/ipykernel_4858/3751565376.py:6: RankWarning: Polyfit may be poorly conditioned\n",
      "  p = numpy.polyfit(x, f(x), n - 1)\n",
      "/var/folders/j2/rkbxss0d4b10t_2h10nmd78w0000gn/T/ipykernel_4858/3751565376.py:10: RankWarning: Polyfit may be poorly conditioned\n",
      "  p_cheb = numpy.polyfit(x_tr, f(x_tr), n - 1)\n",
      "/var/folders/j2/rkbxss0d4b10t_2h10nmd78w0000gn/T/ipykernel_4858/3751565376.py:6: RankWarning: Polyfit may be poorly conditioned\n",
      "  p = numpy.polyfit(x, f(x), n - 1)\n",
      "/var/folders/j2/rkbxss0d4b10t_2h10nmd78w0000gn/T/ipykernel_4858/3751565376.py:10: RankWarning: Polyfit may be poorly conditioned\n",
      "  p_cheb = numpy.polyfit(x_tr, f(x_tr), n - 1)\n",
      "/var/folders/j2/rkbxss0d4b10t_2h10nmd78w0000gn/T/ipykernel_4858/3751565376.py:6: RankWarning: Polyfit may be poorly conditioned\n",
      "  p = numpy.polyfit(x, f(x), n - 1)\n",
      "/var/folders/j2/rkbxss0d4b10t_2h10nmd78w0000gn/T/ipykernel_4858/3751565376.py:10: RankWarning: Polyfit may be poorly conditioned\n",
      "  p_cheb = numpy.polyfit(x_tr, f(x_tr), n - 1)\n",
      "/var/folders/j2/rkbxss0d4b10t_2h10nmd78w0000gn/T/ipykernel_4858/3751565376.py:6: RankWarning: Polyfit may be poorly conditioned\n",
      "  p = numpy.polyfit(x, f(x), n - 1)\n",
      "/var/folders/j2/rkbxss0d4b10t_2h10nmd78w0000gn/T/ipykernel_4858/3751565376.py:10: RankWarning: Polyfit may be poorly conditioned\n",
      "  p_cheb = numpy.polyfit(x_tr, f(x_tr), n - 1)\n",
      "/var/folders/j2/rkbxss0d4b10t_2h10nmd78w0000gn/T/ipykernel_4858/3751565376.py:6: RankWarning: Polyfit may be poorly conditioned\n",
      "  p = numpy.polyfit(x, f(x), n - 1)\n",
      "/var/folders/j2/rkbxss0d4b10t_2h10nmd78w0000gn/T/ipykernel_4858/3751565376.py:10: RankWarning: Polyfit may be poorly conditioned\n",
      "  p_cheb = numpy.polyfit(x_tr, f(x_tr), n - 1)\n",
      "/var/folders/j2/rkbxss0d4b10t_2h10nmd78w0000gn/T/ipykernel_4858/3751565376.py:6: RankWarning: Polyfit may be poorly conditioned\n",
      "  p = numpy.polyfit(x, f(x), n - 1)\n",
      "/var/folders/j2/rkbxss0d4b10t_2h10nmd78w0000gn/T/ipykernel_4858/3751565376.py:10: RankWarning: Polyfit may be poorly conditioned\n",
      "  p_cheb = numpy.polyfit(x_tr, f(x_tr), n - 1)\n",
      "/var/folders/j2/rkbxss0d4b10t_2h10nmd78w0000gn/T/ipykernel_4858/3751565376.py:6: RankWarning: Polyfit may be poorly conditioned\n",
      "  p = numpy.polyfit(x, f(x), n - 1)\n",
      "/var/folders/j2/rkbxss0d4b10t_2h10nmd78w0000gn/T/ipykernel_4858/3751565376.py:10: RankWarning: Polyfit may be poorly conditioned\n",
      "  p_cheb = numpy.polyfit(x_tr, f(x_tr), n - 1)\n",
      "/var/folders/j2/rkbxss0d4b10t_2h10nmd78w0000gn/T/ipykernel_4858/3751565376.py:6: RankWarning: Polyfit may be poorly conditioned\n",
      "  p = numpy.polyfit(x, f(x), n - 1)\n",
      "/var/folders/j2/rkbxss0d4b10t_2h10nmd78w0000gn/T/ipykernel_4858/3751565376.py:10: RankWarning: Polyfit may be poorly conditioned\n",
      "  p_cheb = numpy.polyfit(x_tr, f(x_tr), n - 1)\n",
      "/var/folders/j2/rkbxss0d4b10t_2h10nmd78w0000gn/T/ipykernel_4858/3751565376.py:6: RankWarning: Polyfit may be poorly conditioned\n",
      "  p = numpy.polyfit(x, f(x), n - 1)\n",
      "/var/folders/j2/rkbxss0d4b10t_2h10nmd78w0000gn/T/ipykernel_4858/3751565376.py:10: RankWarning: Polyfit may be poorly conditioned\n",
      "  p_cheb = numpy.polyfit(x_tr, f(x_tr), n - 1)\n"
     ]
    },
    {
     "data": {
      "image/png": "[encoded data removed]",
      "text/plain": [
       "<Figure size 1000x600 with 1 Axes>"
      ]
     },
     "metadata": {},
     "output_type": "display_data"
    }
   ],
   "source": [
    "def err_calc(n): \n",
    "    f = lambda x: numpy.exp(-(x - 3) ** 2)  # First definig gaussian function\n",
    "    \n",
    "    #Points for interpolation\n",
    "    x = numpy.linspace(0, 6, n)\n",
    "    p = numpy.polyfit(x, f(x), n - 1)\n",
    "    \n",
    "    #again, create the chebyshev nodes\n",
    "    x_tr = 3 + 3 * numpy.cos((2.0 * numpy.arange(1, n + 1) - 1.0) / (2.0 * n) * numpy.pi)\n",
    "    p_cheb = numpy.polyfit(x_tr, f(x_tr), n - 1)\n",
    "    x_min, x_max = 0, 6\n",
    "    x = numpy.linspace(x_min, x_max, 1000)  # Fine grid added to ensure smooth evaluation\n",
    "    P_N = numpy.polyval(p, x)\n",
    "\n",
    "    #define r as i the question\n",
    "    err = f(x) - P_N\n",
    "    r = numpy.linalg.norm(err) / numpy.linalg.norm(f(x))\n",
    "    \n",
    "    # Same error calculation, given i the question, but for Chebyshev nodes\n",
    "    P_N_cheb = numpy.polyval(p_cheb, x)\n",
    "    err_ch = f(x) - P_N_cheb\n",
    "    rch = numpy.linalg.norm(err_ch) / numpy.linalg.norm(f(x))\n",
    "\n",
    "    return numpy.log(r), numpy.log(rch)\n",
    "\n",
    "errors_equidistant = []\n",
    "errors_chebyshev = []\n",
    "for n in range(5, 31):  # Fixed the loop variable from N to n\n",
    "    log_err_eq, log_err_ch = err_calc(n)\n",
    "    errors_equidistant.append(log_err_eq)\n",
    "    errors_chebyshev.append(log_err_ch)\n",
    "\n",
    "# Plot the results\n",
    "plt.figure(figsize=(10, 6))\n",
    "plt.scatter(range(5, 31), errors_equidistant, label='Equidistant Points', color='red')\n",
    "plt.scatter(range(5, 31), errors_chebyshev, label='Chebyshev Nodes', color='green')\n",
    "plt.xlabel('n (Number of Points)')\n",
    "plt.ylabel('Log of Rel Error')\n",
    "plt.title('Log of Rel Error vs no. Points for Chebyshev and Equidistant Points')\n",
    "plt.legend()\n",
    "plt.grid(True)\n",
    "plt.show()\n"
   ]
  },
  {
   "cell_type": "markdown",
   "metadata": {
    "deletable": false,
    "nbgrader": {
     "cell_type": "markdown",
     "checksum": "e3b7bad1b549b90f5d44416f05d4d9c0",
     "grade": true,
     "grade_id": "cell-9bd361f6e06eb56c",
     "locked": false,
     "points": 2,
     "schema_version": 3,
     "solution": true,
     "task": false
    }
   },
   "source": [
    "The graph illustrates that as $N$ increases for both interpolation techniques, the relative error generally decreases. This trend suggests that as $N$ grows large, the interpolation $P_N(x)$ approaches the target function $f(x)$, meaning $P_N(x) \\rightarrow f(x)$ as $N \\rightarrow \\infty$, showing that generally tthe approximation becomes better with more points..\n",
    "\n",
    "The Chebyshev interpolation consistently performs better than the equidistant approach, showing smaller errors for all values of $N$\n",
    "\n",
    "An interesting observation is that both methods have points where the relative error increases when more nodes are added. This happens for both around $N = 26$. This might suggest that an increase in nodes is not always consitent in reducing the relative error.\n"
   ]
  },
  {
   "cell_type": "markdown",
   "metadata": {
    "deletable": false,
    "editable": false,
    "nbgrader": {
     "cell_type": "markdown",
     "checksum": "27b49713fe8cae4dff40225f79ad92df",
     "grade": false,
     "grade_id": "cell-3224734890563854",
     "locked": true,
     "schema_version": 3,
     "solution": false
    }
   },
   "source": [
    "## Question 3\n",
    "\n",
    "We can often reformulate finite difference approximations as matrix-vector products.   \n",
    "\n",
    "Here we will construct a matrix   $D$  such that multiplying a vector of $\\mathbf{y}$ values would lead to a second order approximation of the First derivative for the given data. \n",
    "\n",
    "In other words, defining the two vectors   $\\mathbf{x}=[x_0, x_1,\\ldots,x_N]^T$ and $\\mathbf{y}=[y_0, y_1,\\ldots,y_N]^T$  such that\n",
    "\n",
    "$$\\mathbf{y} = f(\\mathbf{x})$$\n",
    "\n",
    "for some scalar function $f$,  find a matrix $D$ such that \n",
    "\n",
    "$$\n",
    "f'(\\mathbf{x}) \\approx D\\mathbf{y}\n",
    "$$"
   ]
  },
  {
   "cell_type": "markdown",
   "metadata": {
    "deletable": false,
    "editable": false,
    "nbgrader": {
     "cell_type": "markdown",
     "checksum": "75ec0cda1d28b8a0bcdb536eaff4233f",
     "grade": false,
     "grade_id": "cell-5c735e9080300d72",
     "locked": true,
     "schema_version": 3,
     "solution": false
    }
   },
   "source": [
    "**(a)** [16] Using any method of your choice, derive the following finite-difference formulas for 3 equispaced points $x_i, x_{i+1}, x_{i+2}$ \n",
    "\n",
    "* 2nd-order accurate approximation to the *1st derivative* at  point \n",
    "    * $x_i$ (forward differences)\n",
    "    * $x_{i+1}$ (centered differences)\n",
    "    * $x_{i+2}$ (backward differences)\n",
    "* 2nd-order accurate approximation to the *2nd derivative* evaluated at each point (hint: think before you grind)\n",
    "\n",
    "Some hints:\n",
    "1. consider the interpolating polynomial $P_2(x)$ through those 3 points and calculate $P'_2(x)$ at each point.\n",
    "2. the method of undetermined coefficients on Taylor's series can be useful here as well\n",
    "\n"
   ]
  },
  {
   "cell_type": "markdown",
   "metadata": {
    "deletable": false,
    "nbgrader": {
     "cell_type": "markdown",
     "checksum": "b46a1b3dc8a64dd94422b7611d5aac79",
     "grade": true,
     "grade_id": "cell-88d2d6f7dba4237d",
     "locked": false,
     "points": 16,
     "schema_version": 3,
     "solution": true
    }
   },
   "source": [
    "Apply the Lagrange Interpolating Method:\n",
    "\n",
    "$$P(x) = \\sum^2_{k=0} y_k \\ell_k(x) = y_0 \\ell_0 + y_1 \\ell_1 + y_2 \\ell_2 $$\n",
    "\n",
    "Where:\n",
    "\n",
    "$$\n",
    "\\ell_0 = \\frac{x - x_{i+1}}{x_{i} - x_{i+1}} \\frac{x - x_{i+2}}{x_i - x_{i+2}}\n",
    "$$\n",
    "$$\n",
    "\\ell_1 = \\frac{x - x_{i}}{x_{i+1} - x_i} \\frac{x - x_{i+2}}{x_{i+1} - x_{i+2}}\n",
    "$$\n",
    "$$\n",
    "\\ell_2 = \\frac{x - x_{i}}{x_{i+2} - x_i} \\frac{x - x_{i+1}}{x_{i+2} - x_{i+1}}\n",
    "$$\n",
    "\n",
    "And:\n",
    "$$ y_0 = f(x_i), \\quad y_1 = f(x_{i+1}), \\quad y_2 = f(x_{i+2}) $$\n",
    "\n",
    "Therefore:\n",
    "$$\n",
    "P(x) = f(x_i) \\frac{x - x_{i+1}}{x_{i} - x_{i+1}} \\frac{x - x_{i+2}}{x_i - x_{i+2}} + f(x_{i+1}) \\frac{x - x_{i}}{x_{i+1} - x_i} \\frac{x - x_{i+2}}{x_{i+1} - x_{i+2}} + f(x_{i+2}) \\frac{x - x_{i}}{x_{i+2} - x_i} \\frac{x - x_{i+1}}{x_{i+2} - x_{i+1}}\n",
    "$$\n",
    "\n",
    "We take the first derivative:\n",
    "\n",
    "$$\n",
    "P'(x) = \\frac{f(x_i)}{(x_i - x_{i+1})(x_i - x_{i+2})} \\cdot (2x - x_{i+1} - x_{i+2})\n",
    "+ \\frac{f(x_{i+1})}{(x_{i+1} - x_i)(x_{i+1} - x_{i+2})} \\cdot (2x - x_i - x_{i+2}) \n",
    "+ \\frac{f(x_{i+2})}{(x_{i+2} - x_i)(x_{i+2} - x_{i+1})} \\cdot (2x - x_i - x_{i+1})\n",
    "$$ \n",
    "\n",
    "Now, considering the points are spaced by $\\Delta x$\n",
    "\n",
    "$$\n",
    "P'(x) = \\frac{f(x_i)}{2\\Delta x} \\cdot (2x - x_{i+1} - x_{i+2}) \n",
    "- \\frac{f(x_{i+1})}{\\Delta x} \\cdot (2x - x_i - x_{i+2}) \n",
    "+ \\frac{f(x_{i+2})}{2\\Delta x} \\cdot (2x - x_i - x_{i+1})\n",
    "$$\n",
    "\n",
    "We can now simplify $P'(x)$ for the case $x = x_i$:\n",
    "\n",
    "$$\n",
    "P'(x_i) = \\frac{f(x_i)}{2\\Delta x} \\cdot (-3\\Delta x)\n",
    "- \\frac{2f(x_{i+1})}{2\\Delta x} \\cdot (-2\\Delta x) \n",
    "+ \\frac{f(x_{i+2})}{2\\Delta x} \\cdot (-\\Delta x)\n",
    "$$ \n",
    "$$\n",
    "P'(x_i) = \\frac{-3f(x_i) + 4f(x_{i+1}) - f(x_{i+2})}{2}\n",
    "$$\n",
    "\n",
    "For the centered case at $x = x_{i+1}$:\n",
    "\n",
    "$$\n",
    "P'(x_{i+1}) = \\frac{f(x_i)}{2\\Delta x} \\cdot (-\\Delta x) \n",
    "+ \\frac{f(x_{i+2})}{2\\Delta x} \\cdot (\\Delta x)\n",
    "$$ \n",
    "$$\n",
    "P'(x_{i+1}) = \\frac{-f(x_i) + f(x_{i+2})}{2}\n",
    "$$\n",
    "\n",
    "Annd for the other case of $x = x_{i+2}$:\n",
    "\n",
    "$$\n",
    "P'(x_{i+2}) = \\frac{f(x_i)}{2\\Delta x} \\cdot (\\Delta x)\n",
    "- \\frac{2f(x_{i+1})}{2\\Delta x} \\cdot (2\\Delta x) \n",
    "+ \\frac{f(x_{i+2})}{2\\Delta x} \\cdot (3\\Delta x)\n",
    "$$ \n",
    "$$\n",
    "P'(x_{i+2}) = \\frac{f(x_i) - 4f(x_{i+1}) + 3f(x_{i+2})}{2}\n",
    "$$ \n",
    "\n",
    "Now for the 2nd order approximation of the 2nd derivative:\n",
    "\n",
    "$$\n",
    "P'(x) = \\frac{f(x_i)}{2\\Delta x} \\cdot (2x - x_{i+1} - x_{i+2})\n",
    "- \\frac{f(x_{i+1})}{\\Delta x} \\cdot (2x - x_i - x_{i+2}) \n",
    "+ \\frac{f(x_{i+2})}{2\\Delta x} \\cdot (2x - x_i - x_{i+1})\n",
    "$$ \n",
    "\n",
    "$$\n",
    "P''(x) = \\frac{f(x_i)}{2\\Delta x} \\cdot 2\n",
    "- \\frac{f(x_{i+1})}{\\Delta x} \\cdot 2\n",
    "+ \\frac{f(x_{i+2})}{2\\Delta x} \\cdot 2\n",
    "$$ \n",
    "\n",
    "Thus:\n",
    "\n",
    "$$\n",
    "P''(x) = \\frac{f(x_i) - 2f(x_{i+1}) + f(x_{i+2})}{\\Delta x^2}\n",
    "$$\n",
    "\n",
    "This shows that for all points $x_i$, $x_{i+1}$, and $x_{i+2}$, the second derivative remains costant,showing that it does not depend on $x$.\n"
   ]
  },
  {
   "cell_type": "markdown",
   "metadata": {
    "deletable": false,
    "editable": false,
    "nbgrader": {
     "cell_type": "markdown",
     "checksum": "5b4d3625936b76ee346bf8290df0a272",
     "grade": false,
     "grade_id": "cell-7885120873385504",
     "locked": true,
     "schema_version": 3,
     "solution": false
    }
   },
   "source": [
    "**(b)** [4] Now consider an equispaced set of points  $y_i = f(x_i)$.  Can you describe the structure of a consistent 2nd order, first derivative matrix $D$,  such that \n",
    "\n",
    "$$\n",
    "    f'(\\mathbf{x}) \\approx D\\mathbf{y}\n",
    "$$\n",
    "\n",
    "returns the consistent 1st derivative at every point (including the end points)"
   ]
  },
  {
   "cell_type": "markdown",
   "metadata": {
    "deletable": false,
    "nbgrader": {
     "cell_type": "markdown",
     "checksum": "615db92a0cea0a438f8d1bcb1b304b11",
     "grade": true,
     "grade_id": "cell-2125755949784286",
     "locked": false,
     "points": 4,
     "schema_version": 3,
     "solution": true
    }
   },
   "source": [
    "We can make a matrix using the coefficients which we found in part a:\n",
    "\n",
    "$$\n",
    "D = \\begin{bmatrix} \n",
    "     \\frac{-3}{2\\Delta} x & 2\\Delta x & \\frac{-1}{2\\Delta} \\\\\n",
    "     \\frac{-1}{2\\Delta} & 0 & \\frac{1}{2\\Delta} \\\\\n",
    "     \\frac{1}{2\\Delta} x & -2\\Delta x & \\frac{3}{2\\Delta} \n",
    "\\end{bmatrix}.\n",
    "$$\n",
    "\n",
    "And now with y, we get:\n",
    "\n",
    "$$\n",
    "y = \\begin{bmatrix} f(x_i) \\\\  f(x_{i+1}) \\\\   f(x_{i+2}) \\end{bmatrix}\n",
    "$$"
   ]
  },
  {
   "cell_type": "markdown",
   "metadata": {
    "deletable": false,
    "editable": false,
    "nbgrader": {
     "cell_type": "markdown",
     "checksum": "81a305f8a973d9be62256992de1c1149",
     "grade": false,
     "grade_id": "cell-8815784455777695",
     "locked": true,
     "schema_version": 3,
     "solution": false
    }
   },
   "source": [
    "**(c)** [4] Using the function `fdcoeffV.py` described in class (and included with this homework), write a python function that takes in a numpy array of coordinates $x$ (not necessarily evenly spaced)  and returns a matrix $D$ that calculates the consistent 2nd-order 1st derivatives at each point using 3 nearest neighbors (be careful at the edges)\n",
    "\n",
    "Given this matrix $D$, it is easy to test it for various functions and meshes"
   ]
  },
  {
   "cell_type": "code",
   "execution_count": 27,
   "metadata": {
    "deletable": false,
    "nbgrader": {
     "cell_type": "code",
     "checksum": "0ccb77beb9410271354dbf3a474cb335",
     "grade": false,
     "grade_id": "cell-5516025382221234",
     "locked": false,
     "schema_version": 3,
     "solution": true
    }
   },
   "outputs": [],
   "source": [
    "from fdcoeffV import fdcoeffV\n",
    "\n",
    "def D1(x):\n",
    "\n",
    "    length = len(x)  \n",
    "    D = numpy.zeros((length, length))\n",
    "    \n",
    "    for n in range(len(x)):    \n",
    "        #here we set up three cases\n",
    "        #1: the first uses the next three points of its neighbour\n",
    "        if n == 0:  \n",
    "            c = fdcoeffV(1, x[n], x[n:n+3])\n",
    "            D[n, n:n+3] = c\n",
    "        #2, the last uses the last three points for neighbors    \n",
    "        elif n == len(x) - 1:\n",
    "            c = fdcoeffV(1, x[n], x[n-3:n-1])\n",
    "            D[n, n-3:n-1] = c\n",
    "        #The third is the normal case, we use one before and two poitns after it\n",
    "        else:\n",
    "            c = fdcoeffV(1, x[n], x[n-1:n+2])\n",
    "            D[n, n-1:n+2] = c   \n",
    "\n",
    "    return D\n"
   ]
  },
  {
   "cell_type": "code",
   "execution_count": 28,
   "metadata": {
    "deletable": false,
    "editable": false,
    "nbgrader": {
     "cell_type": "code",
     "checksum": "728edeeac8ee580c8b5451714396ff74",
     "grade": true,
     "grade_id": "cell-7511846809958937",
     "locked": true,
     "points": 4,
     "schema_version": 3,
     "solution": false
    }
   },
   "outputs": [
    {
     "name": "stdout",
     "output_type": "stream",
     "text": [
      "Uniform mesh: Success!\n",
      "Random mesh: Success!\n"
     ]
    }
   ],
   "source": [
    "# Let's test this using f(x) = sin(pi*x) on a uniform mesh\n",
    "N = 200\n",
    "x = numpy.linspace(-1, 1, N)\n",
    "dx = x[1]-x[0]\n",
    "\n",
    "pi = numpy.pi\n",
    "y = lambda x: numpy.sin(pi*x)\n",
    "y_prime = lambda x: pi*numpy.cos(pi*x)\n",
    "\n",
    "print(\"Uniform mesh: \",end='')\n",
    "numpy.testing.assert_allclose(numpy.dot(D1(x), y(x)), y_prime(x), rtol=1e-2)\n",
    "print(\"Success!\")\n",
    "\n",
    "# test on a randomized mesh\n",
    "x_rand = x + dx/3.*numpy.random.rand(N)\n",
    "print(\"Random mesh: \",end ='')\n",
    "numpy.testing.assert_allclose(numpy.dot(D1(x_rand), y(x_rand)), y_prime(x_rand), rtol=1e-2)\n",
    "print(\"Success!\")\n",
    "\n"
   ]
  },
  {
   "cell_type": "markdown",
   "metadata": {
    "deletable": false,
    "editable": false,
    "nbgrader": {
     "cell_type": "markdown",
     "checksum": "ae07a197d06352ba440c9a21e07f055a",
     "grade": false,
     "grade_id": "cell-894a7ec04fd0689b",
     "locked": true,
     "schema_version": 3,
     "solution": false,
     "task": false
    }
   },
   "source": [
    "**(d)** [6] make a beautiful convergence plot showing how the relative error in your finite element approximation\n",
    "\n",
    "$$ r = \\frac{||f'(\\mathbf{x}) - D\\mathbf{y}||}{||f'(\\mathbf{x})||}$$\n",
    "\n",
    " scales with mesh spacing $\\Delta x$ for $f(x) = \\sin(\\pi x)$ on the interval $x\\in[-1,1]$.  What is the expected rate of convergence?  Compare with the best fit straight line (in log space) to your error estimates."
   ]
  },
  {
   "cell_type": "code",
   "execution_count": 32,
   "metadata": {
    "deletable": false,
    "nbgrader": {
     "cell_type": "code",
     "checksum": "4500eb4ea647bfe57d5b35b583a5e97c",
     "grade": true,
     "grade_id": "cell-2dac3533cd822755",
     "locked": false,
     "points": 4,
     "schema_version": 3,
     "solution": true,
     "task": false
    }
   },
   "outputs": [
    {
     "name": "stderr",
     "output_type": "stream",
     "text": [
      "<>:29: SyntaxWarning: invalid escape sequence '\\D'\n",
      "<>:29: SyntaxWarning: invalid escape sequence '\\D'\n",
      "/var/folders/j2/rkbxss0d4b10t_2h10nmd78w0000gn/T/ipykernel_4858/511819405.py:29: SyntaxWarning: invalid escape sequence '\\D'\n",
      "  plt.xlabel(\"Log of Grid Point ($\\Delta$ x)\")\n"
     ]
    },
    {
     "data": {
      "image/png": "[encoded data removed]",
      "text/plain": [
       "<Figure size 1600x600 with 1 Axes>"
      ]
     },
     "metadata": {},
     "output_type": "display_data"
    },
    {
     "name": "stdout",
     "output_type": "stream",
     "text": [
      "2.284560726396873\n"
     ]
    }
   ],
   "source": [
    "f = lambda x: numpy.sin(numpy.pi * x)\n",
    "f_prime = lambda x: numpy.pi * numpy.cos(numpy.pi * x)\n",
    "\n",
    "r_err = []\n",
    "delta_x = []\n",
    "\n",
    "grid_points = [10, 20, 40, 80, 160, 320, 640, 1280, 2560, 5120, 10240]\n",
    "\n",
    "#we aim to produce a array of the relative errors for each grid point\n",
    "for n in grid_points:\n",
    "    x_min = -1\n",
    "    x_max = 1\n",
    "    x = numpy.linspace(x_min, x_max, n)\n",
    "    err = f_prime(x) - numpy.dot(D1(x), f(x))\n",
    "    r = numpy.linalg.norm(err)/numpy.linalg.norm(f_prime(x))\n",
    "    r_err.append(r)\n",
    "    delta_x.append((x_max-x_min)/(n-1))\n",
    "    \n",
    "\n",
    "#fit a line for the log graph\n",
    "m, b = numpy.polyfit(numpy.log(delta_x), numpy.log(r_err),1) \n",
    "    \n",
    "fig = plt.figure(figsize= (16,6))\n",
    "axes = fig.add_subplot (1, 2, 1)\n",
    "plt.plot(numpy.log(delta_x), numpy.log(r_err), label ='Rel Error') \n",
    "plt.plot(numpy.log(delta_x), numpy.log(numpy.exp(b) * numpy.array(delta_x)**m), label='Best Fit')\n",
    "plt.legend()\n",
    "plt.title('Convergence Plot of Relative Errors')\n",
    "plt.xlabel(\"Log of Grid Point ($\\Delta$ x)\") \n",
    "plt.ylabel(\"Log of Relative Rrror\")\n",
    "plt.grid()\n",
    "plt.show()\n",
    "\n",
    "print(m)\n"
   ]
  },
  {
   "cell_type": "markdown",
   "metadata": {
    "deletable": false,
    "nbgrader": {
     "cell_type": "markdown",
     "checksum": "26e78697e343f6e8a397e33cb9f745f8",
     "grade": true,
     "grade_id": "cell-cdbaae508b97aeab",
     "locked": false,
     "points": 2,
     "schema_version": 3,
     "solution": true,
     "task": false
    }
   },
   "source": [
    "We find the the slope of the line of best fit is approximately 2.28. Meanig the expected rate of covergence is about 2."
   ]
  },
  {
   "cell_type": "markdown",
   "metadata": {
    "deletable": false,
    "editable": false,
    "nbgrader": {
     "cell_type": "markdown",
     "checksum": "71695abb08cc03b3423e733ae2b932fa",
     "grade": false,
     "grade_id": "cell-1283048126092389",
     "locked": true,
     "schema_version": 3,
     "solution": false
    }
   },
   "source": [
    "**(e)** [4] Suppose we knew the *first derivative* of a function $f(x)$ at a discrete set of points and wanted to solve for the discrete function itself.  i.e.  ideally given $D$ and vector $\\mathbf{y} = f'(\\mathbf{x})$,  we would like to be able to solve the linear algebra problem\n",
    "\n",
    "$$\n",
    "    D\\mathbf{f} = \\mathbf{y}\n",
    "$$\n",
    "\n",
    "for $\\mathbf{f}\\approx f(\\bf{x})$.  Discuss any issues we might have with this approach."
   ]
  },
  {
   "cell_type": "markdown",
   "metadata": {
    "deletable": false,
    "nbgrader": {
     "cell_type": "markdown",
     "checksum": "4796062ad226b5075c548c9202ba07fe",
     "grade": true,
     "grade_id": "cell-3816704844311840",
     "locked": false,
     "points": 4,
     "schema_version": 3,
     "solution": true
    }
   },
   "source": [
    "Some issue to this approach might come from the quations given the multiplication of some matrices $Df$. \n",
    "If the matrices do not match up corrrectly, they can either be over or under determined. In both cases, the matrix multiplciatio might prove itself to be unsovlable."
   ]
  },
  {
   "cell_type": "code",
   "execution_count": null,
   "metadata": {},
   "outputs": [],
   "source": []
  }
 ],
 "metadata": {
  "kernelspec": {
   "display_name": "Python 3 (ipykernel)",
   "language": "python",
   "name": "python3"
  },
  "language_info": {
   "codemirror_mode": {
    "name": "ipython",
    "version": 3
   },
   "file_extension": ".py",
   "mimetype": "text/x-python",
   "name": "python",
   "nbconvert_exporter": "python",
   "pygments_lexer": "ipython3",
   "version": "3.12.4"
  },
  "latex_envs": {
   "bibliofile": "biblio.bib",
   "cite_by": "apalike",
   "current_citInitial": 1,
   "eqLabelWithNumbers": true,
   "eqNumInitial": 0
  }
 },
 "nbformat": 4,
 "nbformat_minor": 4
}
