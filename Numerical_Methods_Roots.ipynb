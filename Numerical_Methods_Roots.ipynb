{
 "cells": [
  {
   "cell_type": "code",
   "execution_count": 1,
   "metadata": {},
   "outputs": [],
   "source": [
    "from __future__ import print_function\n",
    "import numpy\n",
    "import matplotlib.pyplot as plt\n",
    "import warnings\n",
    "%matplotlib inline"
   ]
  },
  {
   "cell_type": "markdown",
   "metadata": {
    "deletable": false,
    "editable": false,
    "nbgrader": {
     "cell_type": "markdown",
     "checksum": "16a15b070eb04274387730b373ead3b7",
     "grade": false,
     "grade_id": "cell-7752050701682384",
     "locked": true,
     "schema_version": 3,
     "solution": false
    },
    "tags": []
   },
   "source": [
    "# HW 2:  Root Finding and Optimization"
   ]
  },
  {
   "cell_type": "markdown",
   "metadata": {
    "deletable": false,
    "editable": false,
    "nbgrader": {
     "cell_type": "markdown",
     "checksum": "655550136a8876cfde367066162aeace",
     "grade": false,
     "grade_id": "cell-8382527651811313",
     "locked": true,
     "schema_version": 3,
     "solution": false
    }
   },
   "source": [
    "## Question 1 - Fun with Fixed Point iteration\n",
    "\n",
    "Let's say that we wanted to calculate $\\sqrt{M}$ given that $M \\in \\mathbb{R}$ and $M > 0$ and that we did not want to use the function `sqrt` directly.  Consider the function \n",
    "\n",
    "$$\n",
    "    f(x) = x^2 - M\n",
    "$$\n",
    "\n",
    "which has a positive root at at $x=\\sqrt{M}$.   Here we will try to solve this using  fixed point iteration\n",
    "\n",
    "$$\n",
    "    x_{k+1} = g(x_k)\n",
    "$$\n",
    "for several different iteration functions $g(x)$ (see below)\n",
    "\n",
    "For each function $g$:\n",
    "\n",
    "- Confirm analytically that $x=\\sqrt{M}$ is a fixed point of $g(x)$\n",
    "- Analyze the convergence behavior close to the fixed-point and determine the stability of the iterative scheme\n",
    "- Now set $M=3$  and $x_0 = 2$.  Make a nicely labeled convergence plot showing the log of the relative error as a function of iteration. How many iterations are required to reduce the relative error to machine precision (if it converges)?\n",
    "\n",
    "**Remember**: if you want to write $g^\\prime$, remember to use `g^\\prime` rather than `g'` in $\\LaTeX$"
   ]
  },
  {
   "cell_type": "markdown",
   "metadata": {
    "deletable": false,
    "editable": false,
    "nbgrader": {
     "cell_type": "markdown",
     "checksum": "47d9ae565a714b67099b1500b01a4250",
     "grade": false,
     "grade_id": "cell-7408468548362671",
     "locked": true,
     "schema_version": 3,
     "solution": false
    }
   },
   "source": [
    "**(a)** [4] To help with the last part,  write a short python function to return N iterations of a fixed point iteration."
   ]
  },
  {
   "cell_type": "code",
   "execution_count": 2,
   "metadata": {
    "deletable": false,
    "nbgrader": {
     "cell_type": "code",
     "checksum": "ce6bb68ac251ae8857aeb9060c313a74",
     "grade": false,
     "grade_id": "cell-5217816963816529",
     "locked": false,
     "schema_version": 3,
     "solution": true
    }
   },
   "outputs": [],
   "source": [
    "def fixed_point(g, x0, N=5):\n",
    "    \"\"\"conduct N iterations of the fixed point iteration x_{k+1} = g(x_k)\n",
    "    \n",
    "    :Input:\n",
    "        - *g* (function) - The iteration function\n",
    "        - *x_0* (float) - Initial iterate\n",
    "        - *N* (int) - number of terms in iteration\n",
    "     \n",
    "    :Output:\n",
    "        x: numpy array (float)\n",
    "            array containing the iterations [ x0, x1, ... x_N ]\n",
    "    \"\"\"\n",
    "    #initialise an array to hold N+1 values, including the inital value x0\n",
    "    x = numpy.zeros(N+1)\n",
    "\n",
    "    #iterate through values, starting from x0.\n",
    "    for i in range(N+1):\n",
    "        x[i] = g(x[i-1]) #each new x[i] depends on the previous value x[i-1]\n",
    "\n",
    "    return x"
   ]
  },
  {
   "cell_type": "code",
   "execution_count": 3,
   "metadata": {},
   "outputs": [],
   "source": [
    "### Free cell for messing with your code"
   ]
  },
  {
   "cell_type": "code",
   "execution_count": 4,
   "metadata": {
    "deletable": false,
    "editable": false,
    "nbgrader": {
     "cell_type": "code",
     "checksum": "62a641c4ff1153c8b1e8e39058a3a5eb",
     "grade": true,
     "grade_id": "cell-5409919424122382",
     "locked": true,
     "points": 4,
     "schema_version": 3,
     "solution": false
    }
   },
   "outputs": [
    {
     "name": "stdout",
     "output_type": "stream",
     "text": [
      "success: passed N=5 test\n",
      "success: passed N=1000 test\n"
     ]
    }
   ],
   "source": [
    "# Testing Cell\n",
    "\n",
    "N = 5\n",
    "g = lambda x: numpy.cos(x)\n",
    "x0 = 1.\n",
    "answer = numpy.array([1., 0.54030231, 0.85755322, 0.65428979, 0.79348036, 0.70136877])\n",
    "\n",
    "x = fixed_point(g, x0, N )\n",
    "numpy.testing.assert_allclose(x, answer)\n",
    "print('success: passed N=5 test')\n",
    "\n",
    "x_true = 0.7390851332153119\n",
    "x = fixed_point(g, x0, 1000)\n",
    "numpy.testing.assert_almost_equal(x[-1],x_true)\n",
    "print('success: passed N=1000 test')"
   ]
  },
  {
   "cell_type": "markdown",
   "metadata": {
    "deletable": false,
    "editable": false,
    "nbgrader": {
     "cell_type": "markdown",
     "checksum": "14b5f732f5aa0e3b5cfeac176c46d19c",
     "grade": false,
     "grade_id": "cell-2533433274902651",
     "locked": true,
     "schema_version": 3,
     "solution": false
    }
   },
   "source": [
    "**(b)** [6] analyze the problem with \n",
    "$$ g(x) = 1 + x - \\frac{x^2}{M}$$"
   ]
  },
  {
   "cell_type": "markdown",
   "metadata": {
    "deletable": false,
    "nbgrader": {
     "cell_type": "markdown",
     "checksum": "f8553ede2a496f25fd88744bab86b8fa",
     "grade": true,
     "grade_id": "cell-340019030337399",
     "locked": false,
     "points": 4,
     "schema_version": 3,
     "solution": true,
     "task": false
    }
   },
   "source": [
    "Firstly, for $x=\\sqrt{M}$, we can confirm this is a fixed point as $g(\\sqrt{M})= 1 + \\sqrt{M} - \\frac{M}{M} = 1 + \\sqrt{M} - 1$, thus proving that $g(\\sqrt{M})=\\sqrt{M}$ and that it is a fixed point.\n",
    "\n",
    "To find if $g(x)$ converges, we must check at $g'(x^*) < 1$. First let's compute the derivative of $g(x)$: $$ g'(x) = 1 - \\frac{2x}{m}$$ and: $$g'(\\sqrt{M})= 1 - \\frac{2\\sqrt{M}}{M}$$\n",
    "\n",
    "For M = 3, $$g'(\\sqrt{3}) = 1 - \\frac{2}{\\sqrt{3}} < 1$$\n",
    "Therefore, we know that this converges for M = 3, at the fixed point $x=\\sqrt{M}$.\n",
    "\n",
    "We now test the stability of the function and whether it converges to the point $x=\\sqrt{M}$, where $\\sqrt{M} = \\sqrt(3) \\approx 1.732$. We test the function using an initial guess of $x0=2.5$, and setting $N=20$ we see how are our answer is stable about the expected value, with small fluctuations about the fixed point. Our log of the relative error plot confirms that this is indeed linear convergence."
   ]
  },
  {
   "cell_type": "code",
   "execution_count": 5,
   "metadata": {
    "deletable": false,
    "nbgrader": {
     "cell_type": "code",
     "checksum": "743a196e7f7129d5fdeb501531d96bc2",
     "grade": true,
     "grade_id": "cell-9ea67719fcf6c873",
     "locked": false,
     "points": 2,
     "schema_version": 3,
     "solution": true,
     "task": false
    }
   },
   "outputs": [
    {
     "name": "stdout",
     "output_type": "stream",
     "text": [
      "[1.         1.66666667 1.74074074 1.7306813  1.73226205 1.73201811\n",
      " 1.73205586 1.73205003 1.73205093 1.73205079 1.73205081 1.73205081\n",
      " 1.73205081 1.73205081 1.73205081 1.73205081 1.73205081 1.73205081\n",
      " 1.73205081 1.73205081 1.73205081]\n",
      "Iteration 19: log(relative error) < log(machine epsilon)\n"
     ]
    },
    {
     "name": "stderr",
     "output_type": "stream",
     "text": [
      "/var/folders/j2/rkbxss0d4b10t_2h10nmd78w0000gn/T/ipykernel_23096/2735734751.py:17: RuntimeWarning: divide by zero encountered in log\n",
      "  log_rel_errors = numpy.log(rel_errors[1:])\n"
     ]
    },
    {
     "data": {
      "image/png": "[encoded data removed]",
      "text/plain": [
       "<Figure size 640x480 with 1 Axes>"
      ]
     },
     "metadata": {},
     "output_type": "display_data"
    }
   ],
   "source": [
    "#define the function g(x) as g1, setting M=3 ad x0=2\n",
    "def g1(x):\n",
    "    return 1 + x - ((x**2)/3)\n",
    "\n",
    "x0 = 2\n",
    "N = 20\n",
    "x_star = numpy.sqrt(3)\n",
    "epsilon = numpy.finfo(float).eps  # Machine epsilon\n",
    "\n",
    "#Set x_values to a variable\n",
    "x_values = fixed_point(g1, x0, N)\n",
    "\n",
    "print(x_values)\n",
    "\n",
    "# Calculate relative errors and log errors\n",
    "rel_errors = numpy.abs((x_values - x_star) / x_star)\n",
    "log_rel_errors = numpy.log(rel_errors[1:])\n",
    "\n",
    "# Find iteration where log(relative error) < log(machine epsilon)\n",
    "for i, log_err in enumerate(log_rel_errors):\n",
    "    if log_err < numpy.log(epsilon):\n",
    "        print(f\"Iteration {i + 1}: log(relative error) < log(machine epsilon)\")\n",
    "        break\n",
    "\n",
    "\n",
    "plt.plot(log_rel_errors, label='Log of Relative Error')\n",
    "plt.xlabel('Iteration Number')\n",
    "plt.ylabel('Log of Relative Error')\n",
    "plt.title('Convergence Plot of Fixed-Point Iteration')\n",
    "plt.grid(True)\n",
    "plt.show()\n",
    "\n"
   ]
  },
  {
   "cell_type": "markdown",
   "metadata": {
    "deletable": false,
    "editable": false,
    "nbgrader": {
     "cell_type": "markdown",
     "checksum": "631a3e4c05e43db09ece645a93dd948c",
     "grade": false,
     "grade_id": "cell-2533433274adsfadf1",
     "locked": true,
     "schema_version": 3,
     "solution": false
    }
   },
   "source": [
    " **(c)** [6] analyze the problem with \n",
    "$$ g(x) = \\frac{M}{x}$$"
   ]
  },
  {
   "cell_type": "markdown",
   "metadata": {
    "deletable": false,
    "nbgrader": {
     "cell_type": "markdown",
     "checksum": "4b9b505f2509ac5d4d21866f8f8735d0",
     "grade": true,
     "grade_id": "cell-340019030h348fqoi",
     "locked": false,
     "points": 4,
     "schema_version": 3,
     "solution": true,
     "task": false
    }
   },
   "source": [
    "For this question, we again see that $g'(\\sqrt{M})= \\frac{M}{\\sqrt{M}} = \\sqrt{M}$, again confirming that $x=\\sqrt{M}$ is a fixed point.\n",
    "\n",
    "The derivative of this function, $g'(x)= \\frac{-M}{x^2}$. For $M = 3$ and $x = \\sqrt{M}$, we get $g'(\\sqrt{M})= \\frac{-3}{3}$, for whcih the absolute value of is not $<1$. Therefore, we see that this function will diverge.\n",
    "\n",
    "When testing the stability of this functionl, we set $x0=2$ and yield results that oscillate between 0 and infinity. Plot does not converge."
   ]
  },
  {
   "cell_type": "code",
   "execution_count": 6,
   "metadata": {
    "deletable": false,
    "nbgrader": {
     "cell_type": "code",
     "checksum": "564a941d39f88c7cb280a1cc912d4b05",
     "grade": true,
     "grade_id": "cell-9ea67238r9y",
     "locked": false,
     "points": 2,
     "schema_version": 3,
     "solution": true,
     "task": false
    }
   },
   "outputs": [
    {
     "name": "stdout",
     "output_type": "stream",
     "text": [
      "[inf  0. inf  0. inf  0. inf  0. inf  0. inf]\n"
     ]
    },
    {
     "name": "stderr",
     "output_type": "stream",
     "text": [
      "/var/folders/j2/rkbxss0d4b10t_2h10nmd78w0000gn/T/ipykernel_23096/2321730589.py:2: RuntimeWarning: divide by zero encountered in scalar divide\n",
      "  return 3/x\n"
     ]
    }
   ],
   "source": [
    "def g2(x):\n",
    "    return 3/x\n",
    "\n",
    "x0 = 2\n",
    "N=10\n",
    "\n",
    "x2_values = fixed_point(g2, x0, N)\n",
    "print(x2_values)\n",
    "\n"
   ]
  },
  {
   "cell_type": "markdown",
   "metadata": {
    "deletable": false,
    "editable": false,
    "nbgrader": {
     "cell_type": "markdown",
     "checksum": "d41d5129f00d5d1f3b8dceea620547c2",
     "grade": false,
     "grade_id": "cell-253343327982308ufu",
     "locked": true,
     "schema_version": 3,
     "solution": false
    }
   },
   "source": [
    "**(d)** [6] Newton's method\n",
    "$$ g(x) = x - \\frac{f}{f^\\prime}$$\n",
    "\n",
    "with $$ f = x^2 - M$$"
   ]
  },
  {
   "cell_type": "markdown",
   "metadata": {
    "deletable": false,
    "nbgrader": {
     "cell_type": "markdown",
     "checksum": "064fb95869cb3acd441daafd5640ee52",
     "grade": true,
     "grade_id": "cell-340019030oijq234roi",
     "locked": false,
     "points": 4,
     "schema_version": 3,
     "solution": true,
     "task": false
    }
   },
   "source": [
    "YOUR ANSWER HERE"
   ]
  },
  {
   "cell_type": "code",
   "execution_count": 7,
   "metadata": {
    "deletable": false,
    "nbgrader": {
     "cell_type": "code",
     "checksum": "de8bb72e85c8267066928bf4faaa5e8f",
     "grade": true,
     "grade_id": "cell-9ea67719fouerouh",
     "locked": false,
     "points": 2,
     "schema_version": 3,
     "solution": true,
     "task": false
    }
   },
   "outputs": [
    {
     "name": "stdout",
     "output_type": "stream",
     "text": [
      "Converged after 3 iterations.\n",
      "[2.         1.75       1.73214286 1.73205081]\n"
     ]
    },
    {
     "data": {
      "image/png": "[encoded data removed]",
      "text/plain": [
       "<Figure size 640x480 with 1 Axes>"
      ]
     },
     "metadata": {},
     "output_type": "display_data"
    }
   ],
   "source": [
    "#define new fixed point function using Newton's method\n",
    "def newton(x0, f, f1, tol, N):\n",
    "    x = numpy.zeros(N+1)\n",
    "    x[0] = x0\n",
    "    for i in range (1, N+1):\n",
    "        fx = f(x[i-1])\n",
    "        f1x = f1(x[i-1])\n",
    "        if f1x == 0:\n",
    "            print(\"Error: Derivative is zero, Newton's method fails.\")\n",
    "            return x[:i]\n",
    "\n",
    "        x[i] = x[i-1] - fx/f1x\n",
    "\n",
    "        if numpy.abs(fx) < tol:\n",
    "            print(f\"Converged after {i} iterations.\")\n",
    "            return x[:i+1]\n",
    "        \n",
    "    return x\n",
    "\n",
    "#define function f and f'\n",
    "def f(x):\n",
    "    return x**2 - 3\n",
    "\n",
    "def f1(x):\n",
    "    return 2*x \n",
    "\n",
    "x_star = numpy.sqrt(3)\n",
    "\n",
    "x_values = newton(2, f, f1, 1e-2, 1000)\n",
    "print(x_values)\n",
    "\n",
    "rel_errors1 = numpy.abs((x_values - x_star) / x_star)\n",
    "log_errors1 = numpy.log(rel_errors1)\n",
    "\n",
    "# Find iteration where log(relative error) < log(machine epsilon)\n",
    "for i in numpy.arange(1, len(log_errors1)):\n",
    "    if log_errors1[i] < numpy.log(numpy.finfo(float).eps):\n",
    "        print(f\"Iteration {i}: log(relative error) < log(machine epsilon)\")\n",
    "        break\n",
    "\n",
    "plt.plot(log_errors1, label='Log of Relative Errors')\n",
    "plt.xlabel('Iterations')\n",
    "plt.ylabel('Log of Relative Errors')\n",
    "plt.title('Convergence Plot of Newton\\'s Method')\n",
    "plt.grid(True)\n",
    "\n",
    "plt.show()\n"
   ]
  },
  {
   "cell_type": "markdown",
   "metadata": {
    "deletable": false,
    "editable": false,
    "nbgrader": {
     "cell_type": "markdown",
     "checksum": "268f820b9f5eab632cd649479bcb3072",
     "grade": false,
     "grade_id": "cell-5084202108adoiu923",
     "locked": true,
     "schema_version": 3,
     "solution": false
    }
   },
   "source": [
    "## Question 2 - Fun with Rootfinders and NewtSafe\n",
    "\n",
    "This problem will explore the behavior of a range of different rootfinding routines against  a more challenging rootfinding problem.  Feel free to use any or all  of the routines presented in class which have been included in an auxiliary python file `rootfinding_optimization_schemes.py`\n",
    "\n",
    "\n",
    "You need to have this file in the same directory with your homework for this notebook to import it."
   ]
  },
  {
   "cell_type": "code",
   "execution_count": 8,
   "metadata": {
    "tags": []
   },
   "outputs": [
    {
     "name": "stdout",
     "output_type": "stream",
     "text": [
      "functions loaded correctly\n"
     ]
    }
   ],
   "source": [
    "#  Cell to import and test at least newton's method from class\n",
    "\n",
    "from  rootfinding_optimization_schemes import newton\n",
    "\n",
    "# set test function and its derivative\n",
    "f = lambda x: numpy.cos(x) - x\n",
    "f_prime = lambda x: -numpy.sin(x) - 1.\n",
    "\n",
    "#set initial guess and call newton\n",
    "x0 = 1.\n",
    "x, x_array = newton(f, f_prime, x0,tol=1.e-12)\n",
    "\n",
    "# run tests\n",
    "answer = 0.7390851332151606\n",
    "N = 5\n",
    "numpy.testing.assert_almost_equal(x, answer)\n",
    "numpy.testing.assert_almost_equal(N, len(x_array))\n",
    "print(\"functions loaded correctly\")"
   ]
  },
  {
   "cell_type": "markdown",
   "metadata": {
    "deletable": false,
    "editable": false,
    "nbgrader": {
     "cell_type": "markdown",
     "checksum": "a32d15febb12107bc3e15a6804e7cddd",
     "grade": false,
     "grade_id": "cell-08d7aa7aa9d9d246",
     "locked": true,
     "schema_version": 3,
     "solution": false,
     "task": false
    },
    "tags": []
   },
   "source": [
    "Consider the function \n",
    "\n",
    "$$\n",
    "    f(x) = \\cos(x) +  N(x, A, \\alpha, \\beta))\n",
    "$$\n",
    "where\n",
    "\n",
    "$$\n",
    "    N(x, A, \\alpha, \\beta) =  A\\left[\\sin(\\alpha x) + \\sin(\\beta x)\\right]\n",
    "$$\n",
    "\n",
    "is a function that adds smooth additive \"noise\" with fixed amplitude $A = 0.05$ and varying frequencies $\\alpha$ and $\\beta$"
   ]
  },
  {
   "cell_type": "markdown",
   "metadata": {
    "deletable": false,
    "editable": false,
    "nbgrader": {
     "cell_type": "markdown",
     "checksum": "65622963e22afc39580364b2d0fb4665",
     "grade": false,
     "grade_id": "cell-fadb86c67ee671d2",
     "locked": true,
     "schema_version": 3,
     "solution": false,
     "task": false
    }
   },
   "source": [
    "**(a)** [4] Make a nicely labeled plot to showing the behavior of this function for \n",
    "* $\\alpha = 0.$, $\\beta =0.$\n",
    "* $\\alpha = 4.$, $\\beta =5.$\n",
    "* $\\alpha = 27$, $\\beta = 50$\n",
    "\n",
    "over the domain $x\\in[-2\\pi, 2\\pi]$. Make sure you have enough points to resolve the wiggles.  You can plot all three curves on the same plot"
   ]
  },
  {
   "cell_type": "code",
   "execution_count": 9,
   "metadata": {
    "deletable": false,
    "nbgrader": {
     "cell_type": "code",
     "checksum": "edc7c9bcc180f7f6c5e68c36a482e7ba",
     "grade": true,
     "grade_id": "cell-fadb86c67ee67848gr",
     "locked": false,
     "points": 4,
     "schema_version": 3,
     "solution": true,
     "task": false
    }
   },
   "outputs": [
    {
     "data": {
      "image/png": "[encoded data removed]",
      "text/plain": [
       "<Figure size 640x480 with 1 Axes>"
      ]
     },
     "metadata": {},
     "output_type": "display_data"
    }
   ],
   "source": [
    "a = 0\n",
    "b = 0\n",
    "a1 = 4.\n",
    "b1 = 5.\n",
    "a2 = 27\n",
    "b2 = 50\n",
    "A = 0.05\n",
    "\n",
    "lower_bound = -2*(numpy.pi)\n",
    "upper_bound = 2*(numpy.pi)\n",
    "\n",
    "x = numpy.linspace(lower_bound, upper_bound, 10000)\n",
    "f = lambda x, A, a, b: numpy.cos(x) + (A * (numpy.sin(a*x) + numpy.sin(b*x)))\n",
    "f1 = lambda x, A, a1, b1: numpy.cos(x) + (A * (numpy.sin(a1*x) + numpy.sin(b1*x)))\n",
    "f2 = lambda x, A, a2, b2: numpy.cos(x) + (A * (numpy.sin(a2*x) + numpy.sin(b2*x)))\n",
    "\n",
    "plt.plot(x, f(x, A, a, b), label=r'$\\alpha,\\beta=0$')\n",
    "plt.plot(x, f1(x, A, a1, b1), label=r'$\\alpha1 = 4.,\\beta1 = 5.$')\n",
    "plt.plot(x, f2(x, A, a2, b2), label=r'$\\alpha2 = 27,\\beta2 = 50$')\n",
    "plt.legend()\n",
    "plt.xlabel('x-axis')\n",
    "plt.ylabel('y-axis')\n",
    "plt.grid(True)\n",
    "\n",
    "plt.show()\n"
   ]
  },
  {
   "cell_type": "markdown",
   "metadata": {
    "deletable": false,
    "editable": false,
    "nbgrader": {
     "cell_type": "markdown",
     "checksum": "3b9302605aa4f4dedadf35490138eeea",
     "grade": false,
     "grade_id": "cell-cfeab33ec7437a33",
     "locked": true,
     "schema_version": 3,
     "solution": false,
     "task": false
    }
   },
   "source": [
    "**(b)** [4] Explore the behavior of the following rootfinding routines \n",
    "* bisection\n",
    "* newton\n",
    "* secant\n",
    "* brentq method using scipy.optimize.root_scalar\n",
    "* **EXTRA CREDIT** any other method used in root_scalar\n",
    "\n",
    "for finding a root of this function, given the bracket $x\\in[x_0, x_1]$ with $x_0 = 0.2$, $x_1 = 2.$ for each ($\\alpha, \\beta$) pair\n",
    "\n",
    "`params = [ (0., 0.), (4., 5.),  (27, 50.) ]`\n",
    "\n",
    "For each routine,  report\n",
    "* the root found $x^*$\n",
    "* the value of $f$ at the root $f(x^*$)\n",
    "* the number of iterations."
   ]
  },
  {
   "cell_type": "code",
   "execution_count": 10,
   "metadata": {
    "deletable": false,
    "nbgrader": {
     "cell_type": "code",
     "checksum": "e4da74b90e3a108cde24c50d129d4a41",
     "grade": true,
     "grade_id": "cell-3d03e0785ba74cee",
     "locked": false,
     "points": 4,
     "schema_version": 3,
     "solution": true,
     "task": false
    }
   },
   "outputs": [
    {
     "name": "stdout",
     "output_type": "stream",
     "text": [
      "Bisection Method:\n",
      "For a = 0. and b = 0. root x* is  1.570796775817871 . The value of f(x*) is  -4.490229742968679e-07  and the number of iterations is  20\n",
      "For a = 4. and b = 5. root x* is  1.6304405212402344 . The value of f(x*) is  1.9620940003989285e-07  and the number of iterations is  18\n",
      "For a = 27. and b = 50. root x* is  1.5567201137542725 . The value of f(x*) is  -3.49143903736332e-08  and the number of iterations is  22\n",
      "\n",
      "Newton Method:\n",
      "For a = 0. and b = 0. root x* is  10.995575155774585 . The value of f(x*) is  8.682103085509201e-07  and the number of iterations is  8\n",
      "For a = 4. and b = 5. root x* is  -14.096326236971352 . The value of f(x*) is  6.931560737888365e-08  and the number of iterations is  5\n",
      "For a = 27. and b = 50. root x* is  1.5567202288060253 . The value of f(x*) is  -4.268580961318963e-07  and the number of iterations is  27\n",
      "\n",
      "Secant Method:\n",
      "For a = 0. and b = 0. root x* is  1.5707963267998242 . The value of f(x*) is  -4.927552640156338e-12  and the number of iterations is  6\n",
      "For a = 4. and b = 5. root x* is  1.6304406749277849 . The value of f(x*) is  6.13728728740548e-08  and the number of iterations is  7\n",
      "For a = 27. and b = 50. root x* is  1.5567201023472799 . The value of f(x*) is  3.9454700583030355e-09  and the number of iterations is  9\n",
      "\n",
      "BrentQ Method:\n",
      "For a = 0. and b = 0. root x* is  1.5707963267948966 . The value of f(x*) is  6.123233995736766e-17  and the number of iterations is  7\n",
      "For a = 4. and b = 5. root x* is  1.630440744880973 . The value of f(x*) is  -2.983724378680108e-16  and the number of iterations is  8\n",
      "For a = 27. and b = 50. root x* is  1.5567201035054403 . The value of f(x*) is  -3.0878077872387166e-16  and the number of iterations is  10\n",
      "\n",
      "EXTRA CREDIT Ridder Method:\n",
      "For a = 0. and b = 0. root x* is  1.5707963267945357 . The value of f(x*) is  3.6088371534313326e-13  and the number of iterations is  6\n",
      "For a = 4. and b = 5. root x* is  1.630440744881973 . The value of f(x*) is  -8.777145676930331e-13  and the number of iterations is  7\n",
      "For a = 27. and b = 50. root x* is  1.5567201035044596 . The value of f(x*) is  3.3408605742968334e-12  and the number of iterations is  6\n"
     ]
    }
   ],
   "source": [
    "from rootfinding_optimization_schemes import bisection, newton, secant, parabolic_interpolation\n",
    "from scipy.optimize import root_scalar\n",
    "\n",
    "\n",
    "#First define each function, f1, f2 and f3 based on starting conditions\n",
    "f1 = lambda x: numpy.cos(x) + 0.05 * (numpy.sin(0.*x) + numpy.sin(0.*x))\n",
    "f2 = lambda x: numpy.cos(x) + 0.05 * (numpy.sin(4.*x) + numpy.sin(5.*x))\n",
    "f3 = lambda x: numpy.cos(x) + 0.05 * (numpy.sin(27.*x) + numpy.sin(50.*x))\n",
    "x0 = 0.2\n",
    "x1 = 2.\n",
    "\n",
    "#Via Bisection method\n",
    "cb1, cb1_ar = bisection(f1, x0, x1)\n",
    "cb2, cb2_ar = bisection(f2, x0, x1)\n",
    "cb3, cb3_ar = bisection(f3, x0, x1)\n",
    "print ('Bisection Method:' )\n",
    "print ('For a = 0. and b = 0. root x* is ', cb1, '. The value of f(x*) is ', f1(cb1), ' and the number of iterations is ', numpy.size(cb1_ar))\n",
    "print ('For a = 4. and b = 5. root x* is ', cb2, '. The value of f(x*) is ', f2(cb2), ' and the number of iterations is ', numpy.size(cb2_ar))\n",
    "print ('For a = 27. and b = 50. root x* is ', cb3, '. The value of f(x*) is ', f3(cb3), ' and the number of iterations is ', numpy.size(cb3_ar))\n",
    "\n",
    "#Via Newton Method\n",
    "#define f_prime\n",
    "f1_p = lambda x: -numpy.sin(x) + 0.05 * (numpy.cos(0.*x) + numpy.cos(0.*x))\n",
    "f2_p = lambda x: -numpy.sin(x) + 0.05 * (4.*numpy.cos(4.*x) + 5.*numpy.cos(5.*x))\n",
    "f3_p = lambda x: -numpy.sin(x) + 0.05 * (27.*numpy.cos(27.*x) + 50.*numpy.cos(50.*x))\n",
    "\n",
    "nm1, nm1_ar = newton(f1, f1_p, x0)\n",
    "nm2, nm2_ar = newton(f2, f2_p, x0)\n",
    "nm3, nm3_ar = newton(f3, f3_p, x0)\n",
    "print ()\n",
    "print ('Newton Method:' )\n",
    "print ('For a = 0. and b = 0. root x* is ', nm1, '. The value of f(x*) is ', f1(nm1), ' and the number of iterations is ', numpy.size(nm1_ar))\n",
    "print ('For a = 4. and b = 5. root x* is ', nm2, '. The value of f(x*) is ', f2(nm2), ' and the number of iterations is ', numpy.size(nm2_ar))\n",
    "print ('For a = 27. and b = 50. root x* is ', nm3, '. The value of f(x*) is ', f3(nm3), ' and the number of iterations is ', numpy.size(nm3_ar))\n",
    "\n",
    "#Via Secant Method\n",
    "sm1, sm1_ar = secant(f1, x0, x1)\n",
    "sm2, sm2_ar = secant(f2, x0, x1)\n",
    "sm3, sm3_ar = secant(f3, x0, x1)\n",
    "print ()\n",
    "print ('Secant Method:' )\n",
    "print ('For a = 0. and b = 0. root x* is ', sm1, '. The value of f(x*) is ', f1(sm1), ' and the number of iterations is ', numpy.size(sm1_ar))\n",
    "print ('For a = 4. and b = 5. root x* is ', sm2, '. The value of f(x*) is ', f2(sm2), ' and the number of iterations is ', numpy.size(sm2_ar))\n",
    "print ('For a = 27. and b = 50. root x* is ', sm3, '. The value of f(x*) is ', f3(sm3), ' and the number of iterations is ', numpy.size(sm3_ar))\n",
    "\n",
    "#Via Brentq method\n",
    "bq1 = root_scalar(f1, bracket=[x0, x1], method='brentq')\n",
    "bq2 = root_scalar(f2, bracket=[x0, x1], method='brentq')\n",
    "bq3 = root_scalar(f3, bracket=[x0, x1], method='brentq')\n",
    "print ()\n",
    "print ('BrentQ Method:' )\n",
    "print ('For a = 0. and b = 0. root x* is ', bq1.root, '. The value of f(x*) is ', f1(bq1.root), ' and the number of iterations is ', bq1.iterations)\n",
    "print ('For a = 4. and b = 5. root x* is ', bq2.root, '. The value of f(x*) is ', f2(bq2.root), ' and the number of iterations is ', bq2.iterations)\n",
    "print ('For a = 27. and b = 50. root x* is ', bq3.root, '. The value of f(x*) is ', f3(bq3.root), ' and the number of iterations is ', bq3.iterations)\n",
    "\n",
    "#EXTRA CREDIT, using the Ridder method\n",
    "r1 = root_scalar(f1, bracket=[x0,\n",
    "                              x1], method='ridder')\n",
    "r2 = root_scalar(f2, bracket=[x0, x1], method='ridder')\n",
    "r3 = root_scalar(f3, bracket=[x0, x1], method='ridder')\n",
    "print ()\n",
    "print ('EXTRA CREDIT Ridder Method:' )\n",
    "print ('For a = 0. and b = 0. root x* is ', r1.root, '. The value of f(x*) is ', f1(r1.root), ' and the number of iterations is ', r1.iterations)\n",
    "print ('For a = 4. and b = 5. root x* is ', r2.root, '. The value of f(x*) is ', f2(r2.root), ' and the number of iterations is ', r2.iterations)\n",
    "print ('For a = 27. and b = 50. root x* is ', r3.root, '. The value of f(x*) is ', f3(r3.root), ' and the number of iterations is ', r3.iterations)\n",
    "\n"
   ]
  },
  {
   "cell_type": "markdown",
   "metadata": {
    "deletable": false,
    "editable": false,
    "nbgrader": {
     "cell_type": "markdown",
     "checksum": "60affd12658a1d118a9a3ac3ade5a703",
     "grade": false,
     "grade_id": "cell-d6c0204318b16a38",
     "locked": true,
     "schema_version": 3,
     "solution": false,
     "task": false
    }
   },
   "source": [
    "**(c)** [4] Make a convergence plot showing the relative error at each step for Newton's method for the same three parameter pairs and initial guess $x_0 = 0.2$."
   ]
  },
  {
   "cell_type": "code",
   "execution_count": 11,
   "metadata": {
    "deletable": false,
    "nbgrader": {
     "cell_type": "code",
     "checksum": "712e8203de014a4d1bff6c5d3589f974",
     "grade": true,
     "grade_id": "cell-03e97ced4d02bc89",
     "locked": false,
     "points": 4,
     "schema_version": 3,
     "solution": true,
     "task": false
    }
   },
   "outputs": [
    {
     "data": {
      "image/png": "[encoded data removed]",
      "text/plain": [
       "<Figure size 1600x600 with 1 Axes>"
      ]
     },
     "metadata": {},
     "output_type": "display_data"
    }
   ],
   "source": [
    "from  rootfinding_optimization_schemes import newton\n",
    "\n",
    "f1 = lambda x: numpy.cos(x) + 0.05 * (numpy.sin(0.*x) + numpy.sin(0.*x))\n",
    "f2 = lambda x: numpy.cos(x) + 0.05 * (numpy.sin(4.*x) + numpy.sin(5.*x))\n",
    "f3 = lambda x: numpy.cos(x) + 0.05 * (numpy.sin(27.*x) + numpy.sin(50.*x))\n",
    "x0 = 0.2\n",
    "x1 = 2.\n",
    "\n",
    "#Using Newton's Method, defining each function f\n",
    "\n",
    "f1_p = lambda x: -numpy.sin(x) + 0.05 * (numpy.cos(0.*x) + numpy.cos(0.*x))\n",
    "f2_p = lambda x: -numpy.sin(x) + 0.05 * (4.*numpy.cos(4.*x) + 5.*numpy.cos(5.*x))\n",
    "f3_p = lambda x: -numpy.sin(x) + 0.05 * (27.*numpy.cos(27.*x) + 50.*numpy.cos(50.*x))\n",
    "\n",
    "nm1, nm1_ar = newton(f1, f1_p, x0)\n",
    "nm2, nm2_ar = newton(f2, f2_p, x0)\n",
    "nm3, nm3_ar = newton(f3, f3_p, x0)\n",
    "\n",
    "#Finding relative error arrays\n",
    "r1 = numpy.abs((nm1_ar - numpy.pi/2) / numpy.pi/2)\n",
    "r2 = numpy.abs((nm2_ar - numpy.pi/2) / numpy.pi/2)\n",
    "r3 = numpy.abs((nm3_ar - numpy.pi/2) / numpy.pi/2)\n",
    "\n",
    "\n",
    "fig = plt.figure(figsize= (16,6))\n",
    "axes = fig.add_subplot (1, 2, 1)\n",
    "plt.plot(numpy.arange(len(r1)), numpy.log(r1), label ='relative errors for alpha=0, beta=0') \n",
    "plt.plot(numpy.arange(len(r2)), numpy.log(r2), label ='relative errors for alpha=4, beta=5') \n",
    "plt.plot(numpy.arange(len(r3)), numpy.log(r3), label ='relative errors for alpha=27, beta=50')  \n",
    "plt.legend()\n",
    "plt.title(\"Plot of Log of Relative Errors vs. Term of Iteration given alpha and beta\")                \n",
    "plt.xlabel(\"Term of Iteration\")\n",
    "plt.ylabel(\"Log of Relative Error\")\n",
    "plt.xlim([0, 30])\n",
    "plt.grid()\n",
    "plt.show()"
   ]
  },
  {
   "cell_type": "markdown",
   "metadata": {
    "deletable": false,
    "editable": false,
    "nbgrader": {
     "cell_type": "markdown",
     "checksum": "2df03ce3234624a2a1c2d6b521634126",
     "grade": false,
     "grade_id": "cell-688d9772c0ee0353",
     "locked": true,
     "schema_version": 3,
     "solution": false,
     "task": false
    }
   },
   "source": [
    "**(d)** [4] Briefly explain your results so far for all the methods.  Feel free to play with other initial parameters or to make additional plots.  "
   ]
  },
  {
   "cell_type": "markdown",
   "metadata": {
    "deletable": false,
    "nbgrader": {
     "cell_type": "markdown",
     "checksum": "2fd45f3d0ef415e1263944f18cb82175",
     "grade": true,
     "grade_id": "cell-0d30efbc8418cd82",
     "locked": false,
     "points": 4,
     "schema_version": 3,
     "solution": true,
     "task": false
    }
   },
   "source": [
    "All the methods give similar values for the actual root, except for Newton's method, which only aligns with the others when alpha is 27 and beta is 50.\n",
    "\n",
    "This difference likely stems from the fact that the cosine function has multiple roots. Newton's method might have overshot the expected root at π/2 and found a different one. This happens because Newton's method involves the term f/f', and near the peak of cos(x), this ratio can approach infinity. As f' approaches zero around points of sign change, the ratio becomes large since f still retains a positive or negative value, leading to a significant deviation."
   ]
  },
  {
   "cell_type": "markdown",
   "metadata": {
    "deletable": false,
    "editable": false,
    "nbgrader": {
     "cell_type": "markdown",
     "checksum": "db197de596ae1a5191790bc36a15b67c",
     "grade": false,
     "grade_id": "cell-b46861a6140bb51d",
     "locked": true,
     "schema_version": 3,
     "solution": false,
     "task": false
    }
   },
   "source": [
    "**(e)** [6] Write a controlled Newton routine `NewtSafe`,  that finds a root with an initial bracket by combining newton steps with a bisection routine.  The basic algorithm is to first try Newton from the midpoint of the bracket.  If Newton predicts a solution outside of the bracket, ignore it and take a bisection step instead.  You can use and modify any of the rootfinding routines I presented in class, but write a decent docstring and raise appropriate exceptions as necessary. \n",
    "\n",
    "The routine should return the best estimate of the root and number of Newton Steps and the number of bisection steps\n",
    "\n",
    "`x, N_newt, N_bisection = newtsafe(f, f_prime, a, b)`"
   ]
  },
  {
   "cell_type": "code",
   "execution_count": 12,
   "metadata": {
    "deletable": false,
    "nbgrader": {
     "cell_type": "code",
     "checksum": "c064de33e8e33bb749259d97e0fb04a1",
     "grade": false,
     "grade_id": "cell-a20f6d1abec7c19d",
     "locked": false,
     "schema_version": 3,
     "solution": true,
     "task": false
    }
   },
   "outputs": [],
   "source": [
    "def newtsafe(f,f_prime,a,b,tol = 1.e-6, max_steps=1000):\n",
    "    \n",
    "#Using basic structure of Newton's Method\n",
    "    c = (a + b) / 2.\n",
    "    x = c\n",
    "    n_newt = 0\n",
    "    n_bisection = 0\n",
    "    x_array = [ c ]\n",
    "    \n",
    "    for k in range(1, max_steps + 1):        \n",
    "\n",
    "        if (x - f(x) / f_prime(x)) < a or (x - f(x) / f_prime(x)) > b:\n",
    "            f_a = f(a)\n",
    "            f_b = f(b)\n",
    "            f_c = f(x)\n",
    "            \n",
    "            if numpy.abs(f_c) < tol:\n",
    "                break\n",
    "\n",
    "            if numpy.sign(f_a) != numpy.sign(f_c):\n",
    "                b = c\n",
    "                f_b = f_c\n",
    "            else:\n",
    "                a = c\n",
    "                f_a = f_c\n",
    "                \n",
    "            c = (a + b)/2.\n",
    "            f_c = f(c)\n",
    "            \n",
    "            x = c\n",
    "            \n",
    "            x_array.append(c)\n",
    "            n_bisection += 1\n",
    "        \n",
    "        else:\n",
    "            if numpy.abs(f(x)) < tol:\n",
    "                break\n",
    "            x = x - f(x) / f_prime(x)\n",
    "            x_array.append(x)\n",
    "            n_newt += 1\n",
    "        if k == max_steps:\n",
    "            warnings.warn('Maximum number of steps exceeded')\n",
    "\n",
    "    return x, n_newt, n_bisection"
   ]
  },
  {
   "cell_type": "code",
   "execution_count": 13,
   "metadata": {},
   "outputs": [],
   "source": [
    "# you can play with your code here"
   ]
  },
  {
   "cell_type": "code",
   "execution_count": 14,
   "metadata": {
    "deletable": false,
    "editable": false,
    "nbgrader": {
     "cell_type": "code",
     "checksum": "a0fc4358c1096461564e6e35cea822ab",
     "grade": true,
     "grade_id": "cell-7cdbdbda9ca86f82",
     "locked": true,
     "points": 6,
     "schema_version": 3,
     "solution": false,
     "task": false
    }
   },
   "outputs": [
    {
     "name": "stdout",
     "output_type": "stream",
     "text": [
      "Bracket  = [-0.68309670780092, 2.642524050776319]\n",
      "Newton   = 1.27194847295657,    N   = 3\n",
      "NewtSafe = 1.27194847295657,    N_n = 3, N_b = 0\n",
      "brentq   = 1.2719484732512498,    N   = 9\n",
      "\n",
      "Bracket  = [-0.7104536143852529, 3.8152626763086603]\n",
      "Newton   = -23.8662065317763,    N   = 7\n",
      "NewtSafe = 1.0884990113244402,    N_n = 3, N_b = 2\n",
      "brentq   = 1.088499013515958,    N   = 13\n",
      "\n",
      "Bracket  = [-0.5236057894835726, 3.9067882124238986]\n",
      "Newton   = -10.863477689404652,    N   = 11\n",
      "NewtSafe = 1.1106142646362411,    N_n = 5, N_b = 1\n",
      "brentq   = 1.1106142646873127,    N   = 11\n",
      "\n",
      "Bracket  = [-0.5275356434135271, 2.4988039593212776]\n",
      "Newton   = 1.3248590962279085,    N   = 3\n",
      "NewtSafe = 1.3248590962279085,    N_n = 3, N_b = 0\n",
      "brentq   = 1.324859096815039,    N   = 9\n",
      "\n",
      "Bracket  = [-0.3534683303763972, 3.9130408021252014]\n",
      "Newton   = 1.1473182519095415,    N   = 10\n",
      "NewtSafe = 1.1473181693677807,    N_n = 5, N_b = 1\n",
      "brentq   = 1.1473182519138232,    N   = 10\n",
      "\n",
      "success!\n"
     ]
    },
    {
     "name": "stderr",
     "output_type": "stream",
     "text": [
      "/var/folders/j2/rkbxss0d4b10t_2h10nmd78w0000gn/T/ipykernel_23096/3922982842.py:42: UserWarning: Maximum number of steps exceeded\n",
      "  warnings.warn('Maximum number of steps exceeded')\n"
     ]
    }
   ],
   "source": [
    "# Testing Cell\n",
    "from  rootfinding_optimization_schemes import newton\n",
    "from scipy.optimize import root_scalar\n",
    "\n",
    "a = 27\n",
    "b = 50\n",
    "A = 0.3\n",
    "f = lambda x: numpy.cos(x) + A*(numpy.sin(a * x) + numpy.sin(b * x))\n",
    "f_prime = lambda x: -numpy.sin(x) + A*(a*numpy.cos(a * x) + b*numpy.cos(b * x))\n",
    "\n",
    "pi = numpy.pi\n",
    "\n",
    "brackets = [ \n",
    "            (-0.68309670780092, 2.642524050776319),\n",
    "            (-0.7104536143852529, 3.8152626763086603),\n",
    "            (-0.5236057894835726, 3.9067882124238986),\n",
    "            (-0.5275356434135271, 2.4988039593212776),\n",
    "            (-0.3534683303763972, 3.9130408021252014)\n",
    "           ]\n",
    "\n",
    "for bracket in brackets:\n",
    "    #a = numpy.random.uniform(low=-pi/4, high=pi/4)\n",
    "    #b = numpy.random.uniform(low=3*pi/4, high=5*pi/4)\n",
    "    a = bracket[0]\n",
    "    b = bracket[1]\n",
    "    x_n, x_array = newton(f, f_prime, (a + b)/2.)\n",
    "    x_ns, N_n, N_b = newtsafe(f, f_prime, a, b)\n",
    "    sol = root_scalar(f, bracket=(a, b),method='brentq')\n",
    "    print('Bracket  = [{}, {}]'.format(a, b))\n",
    "    print('Newton   = {},    N   = {}'.format(x_n, len(x_array)-1))\n",
    "    print('NewtSafe = {},    N_n = {}, N_b = {}'.format(x_ns, N_n, N_b))\n",
    "    print('brentq   = {},    N   = {}'.format(sol.root, sol.iterations))\n",
    "    print()\n",
    "    numpy.testing.assert_almost_equal(x_ns, sol.root,decimal=5)\n",
    "    \n",
    "try:\n",
    "    x_ns, N_n, N_b = newtsafe(f, f_prime, 1.6, 2.0)\n",
    "except ValueError as err:\n",
    "    print(err)\n",
    "    pass\n",
    "\n",
    "print('success!')\n"
   ]
  },
  {
   "cell_type": "markdown",
   "metadata": {
    "deletable": false,
    "editable": false,
    "nbgrader": {
     "cell_type": "markdown",
     "checksum": "6ff9cfc557769fb0e0cd3151689d9310",
     "grade": false,
     "grade_id": "cell-508420840igovo948yh23",
     "locked": true,
     "schema_version": 3,
     "solution": false
    }
   },
   "source": [
    "## Question 3 - Solve a \"real\" rootfinding problem\n",
    "\n",
    "In Homework 2, I asked you to *estimate* the number of terms in the taylor expansion of $e^x$ such that the relative error was less than $\\epsilon_{mach}$.  This was essentially a non-linear problem in the number of steps $n$.  Here we will use a rootfinder to get this number more precisely."
   ]
  },
  {
   "cell_type": "markdown",
   "metadata": {
    "deletable": false,
    "editable": false,
    "nbgrader": {
     "cell_type": "markdown",
     "checksum": "0c5da29bd8798f54998030d92df5ac1d",
     "grade": false,
     "grade_id": "cell-3f4f0535e4abc84f",
     "locked": true,
     "schema_version": 3,
     "solution": false,
     "task": false
    }
   },
   "source": [
    "**(a)** [8] provide a numerical solution for the number of terms $n$ in the Taylor polynomial expansion of exp(x) (i.e. $T_N(x))$ such that the relative error is\n",
    "\n",
    "$$\n",
    "    r = \\left| \\frac{x^{n+1}}{(n + 1)!} \\right| \\approx \\epsilon_{mach}\n",
    "$$ \n",
    "\n",
    "Give solutions for x = 0.1, 1., 10. ,100. , 709., 1000. and compare your numerical solution to the approximate solution given in last homework \n",
    "\n",
    "$$\n",
    "    n > e*x\n",
    "$$\n",
    "\n",
    "by calculating the relative error between the your numerical solution and your simpler estimate.\n",
    "\n",
    "Note: To make this problem easier, just use Stirling’s approximation $\\log(n!) \\approx n \\log n − n$. which will work quite well.  However, for a little bit of extra credit solve this for the full problem and compare solutions.\n"
   ]
  },
  {
   "cell_type": "markdown",
   "metadata": {
    "deletable": false,
    "nbgrader": {
     "cell_type": "markdown",
     "checksum": "b68b95d0b33a72562c80bc1c8831d3ac",
     "grade": true,
     "grade_id": "cell-8fc4ebbf43da6dff",
     "locked": false,
     "points": 4,
     "schema_version": 3,
     "solution": true,
     "task": false
    }
   },
   "source": [
    "For x= 0.1 the actual number of terms is  9 , approximate number of terms in int form:  1 . And this the relative error is  0.8888888888888888\n",
    "\n",
    "For x= 1.0 the actual number of terms is  17 , approximate number of terms in int form:  3 . And this the relative error is  0.8235294117647058\n",
    "\n",
    "For x= 10.0 the actual number of terms is  51 , approximate number of terms in int form:  28 . And this the relative error is  0.45098039215686275\n",
    "\n",
    "For x= 100.0 the actual number of terms is  302 , approximate number of terms in int form:  272 . And this the relative error is  0.09933774834437085\n",
    "\n",
    "For x= 709.0 the actual number of terms is  1958 , approximate number of terms in int form:  1928 . And this the relative error is  0.015321756894790603\n",
    "\n",
    "For x= 1000.0 the actual number of terms is  2749 , approximate number of terms in int form:  2719 . And this the relative error is  0.010913059294288832\n",
    "\n"
   ]
  },
  {
   "cell_type": "code",
   "execution_count": 15,
   "metadata": {
    "deletable": false,
    "nbgrader": {
     "cell_type": "code",
     "checksum": "11099c9f28135df32eed257aca68662a",
     "grade": true,
     "grade_id": "cell-963aac8426927a48",
     "locked": false,
     "points": 4,
     "schema_version": 3,
     "solution": true,
     "task": false
    }
   },
   "outputs": [
    {
     "name": "stdout",
     "output_type": "stream",
     "text": [
      "\n",
      "\n",
      "FULL:\n",
      "For x= 0.1 the actual number of terms is  9 , approximate number of terms in int form:  1 . And this the relative error is  0.8888888888888888\n",
      "\n",
      "For x= 1.0 the actual number of terms is  17 , approximate number of terms in int form:  3 . And this the relative error is  0.8235294117647058\n",
      "\n",
      "For x= 10.0 the actual number of terms is  51 , approximate number of terms in int form:  28 . And this the relative error is  0.45098039215686275\n",
      "\n",
      "For x= 100.0 the actual number of terms is  302 , approximate number of terms in int form:  272 . And this the relative error is  0.09933774834437085\n",
      "\n",
      "For x= 709.0 the actual number of terms is  1958 , approximate number of terms in int form:  1928 . And this the relative error is  0.015321756894790603\n",
      "\n",
      "For x= 1000.0 the actual number of terms is  2749 , approximate number of terms in int form:  2719 . And this the relative error is  0.010913059294288832\n",
      "\n"
     ]
    }
   ],
   "source": [
    "def calc_terms(x): \n",
    "    end = 1000000    \n",
    "    #to find the actual terms in taylor series we must observe relative error accuracy of the taylor's series\n",
    "    x_approx = 1\n",
    "    terms = 0\n",
    "    \n",
    "    eps = numpy.finfo(float).eps\n",
    "    \n",
    "    for i in range(0, end):\n",
    "        #apply stirlings rule to| \\frac{x^{n+1}}{(n + 1)!}| to find the value at which it is equal to or below machine eps \n",
    "        #(n+1)log(x) - log((N+1))! = log(machine eps)\n",
    "        #(n+1)log(x) - ((n+1)log(n+1) - (n+1))\n",
    "        x_approx = (i+1) * numpy.log(x) - ((i+1) * numpy.log(i+1) - (i+1))\n",
    "        if(x_approx <= numpy.log(eps)):\n",
    "            terms = i\n",
    "            break\n",
    "    \n",
    "    numap_terms = int(numpy.exp(1) * x) + 1\n",
    "    r = numpy.abs((numap_terms - terms) / terms)\n",
    "        \n",
    "    return terms, numap_terms, r\n",
    "\n",
    "def calc_terms_a(x): \n",
    "    end = 1000000\n",
    "    test_n = numpy.arange(1,end, dtype=int)\n",
    "    test_n = numpy.log(test_n)\n",
    "    \n",
    "    for m in range(1,end-1):\n",
    "        test_n[m] += test_n[m-1]\n",
    "    \n",
    "    eps = numpy.finfo(float).eps\n",
    "    \n",
    "    \n",
    "    #We now have an array of log(n!)\n",
    "    #to find the actual terms in taylor series we must observe relative error accuracy of the taylor's series\n",
    "    x_approx = 1\n",
    "    terms = 0\n",
    "    \n",
    "    for i in range(1, end):\n",
    "        #apply stirlings rule to| \\frac{x^{n+1}}{(n + 1)!}| to find the value at which it is equal to or below machine eps \n",
    "        #(n+1)log(x) - log((N+1))! = log(machine eps)\n",
    "        #(n+1)log(x) - ((n+1)log(n+1) - (n+1))\n",
    "        x_approx = i * numpy.log(x) - test_n[i-1]\n",
    "        if(x_approx < numpy.log(eps)):\n",
    "            terms = i-1\n",
    "            break\n",
    "    \n",
    "    numap_terms = int(numpy.exp(1) * x) + 1\n",
    "    r = numpy.abs((numap_terms - terms) / terms)\n",
    "        \n",
    "    return terms, numap_terms, r\n",
    "\n",
    "samples = [0.1, 1., 10., 100., 709., 1000.]\n",
    "for i in samples:\n",
    "    t, n, r = calc_terms(i)\n",
    "\n",
    "\n",
    "    \n",
    "print()\n",
    "print()\n",
    "print('FULL:')\n",
    "\n",
    "for i in samples:\n",
    "    t, n, r = calc_terms_a(i)\n",
    "    print('For x=', i, 'the actual number of terms is ', t,', approximate number of terms in int form: ', n, '. And this the relative error is ', r) \n",
    "    print()\n"
   ]
  },
  {
   "cell_type": "code",
   "execution_count": null,
   "metadata": {},
   "outputs": [],
   "source": []
  }
 ],
 "metadata": {
  "kernelspec": {
   "display_name": "Python 3 (ipykernel)",
   "language": "python",
   "name": "python3"
  },
  "language_info": {
   "codemirror_mode": {
    "name": "ipython",
    "version": 3
   },
   "file_extension": ".py",
   "mimetype": "text/x-python",
   "name": "python",
   "nbconvert_exporter": "python",
   "pygments_lexer": "ipython3",
   "version": "3.12.4"
  }
 },
 "nbformat": 4,
 "nbformat_minor": 4
}
